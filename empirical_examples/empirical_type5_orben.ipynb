{
 "cells": [
  {
   "cell_type": "markdown",
   "metadata": {},
   "source": [
    "### Empirical Example for RobustiPY (Type 5)!\n",
    "\n",
    "This example is designed to show how RobustiPy can be estimated with multiple dependent variables. In particular, it replicates the wonderful paper by [Amy Orben & Andrew K. Przybylski in Nature Human Behaviour, 2019](https://www.nature.com/articles/s41562-018-0506-1). Data comes from the UK Data Service [here](https://beta.ukdataservice.ac.uk/datacatalogue/series/series?id=2000031). Code comes from Amy's GitHub page, available [here](https://github.com/OrbenAmy/NHB_2019/tree/master).\n"
   ]
  },
  {
   "cell_type": "code",
   "execution_count": 1,
   "metadata": {},
   "outputs": [],
   "source": [
    "import pandas as pd\n",
    "from robustipy.models import OLSRobust\n",
    "import warnings\n",
    "from robustipy.prototypes import MissingValueWarning\n",
    "from robustipy.utils import concat_results\n",
    "from copy import deepcopy\n",
    "\n",
    "\n",
    "# Ignore all MissingValueWarning warnings from robustipy\n",
    "warnings.filterwarnings(\n",
    "    action=\"ignore\",\n",
    "    category=MissingValueWarning,\n",
    "    module=r\"robustipy\\.prototypes\"\n",
    ")\n",
    "\n",
    "\n",
    "n_draws = 500\n",
    "y_sample= 250"
   ]
  },
  {
   "cell_type": "code",
   "execution_count": 2,
   "metadata": {},
   "outputs": [],
   "source": [
    "## lists of predictors\n",
    "predictors = [\n",
    "    [\"fctvho00r\"],\n",
    "    [\"fccomh00r\"],\n",
    "    [\"fccmex00r\"],\n",
    "    [\"fcinth00r\"],\n",
    "    [\"fcsome00r\"],\n",
    "    [\"tech\"]\n",
    "]\n",
    "controls = [\n",
    "    \"edumot\",\n",
    "    \"fd06e00\",\n",
    "    \"clpar\",\n",
    "    \"fcpaab00\",\n",
    "    \"fpwrdscm\",\n",
    "    \"fdacaq00\",\n",
    "    \"fd05s00\",\n",
    "    \"fpclsi00\",\n",
    "    \"fpchti00\",\n",
    "    \"fdkessl\",\n",
    "    \"fdtots00\",\n",
    "    \"foede000\"\n",
    "]"
   ]
  },
  {
   "cell_type": "code",
   "execution_count": 3,
   "metadata": {},
   "outputs": [],
   "source": [
    "data = pd.read_csv('../data/nhb_2019/1_3_prep_mcs_data.csv', low_memory=False)"
   ]
  },
  {
   "cell_type": "code",
   "execution_count": 4,
   "metadata": {},
   "outputs": [],
   "source": [
    "def patch_for_merge(results):\n",
    "    n_specs = results.summary_df.shape[0]\n",
    "    patched = deepcopy(results)\n",
    "    x_label  = \", \".join(x) if isinstance(x, list) else str(x)\n",
    "    y_labels = [f\"composite_y_{i+1}\" for i in range(n_specs)]\n",
    "    if len(patched.all_b) == 1:\n",
    "        patched.all_b = patched.all_b * n_specs\n",
    "    if len(patched.all_p) == 1:\n",
    "        patched.all_p = patched.all_p * n_specs\n",
    "    patched.__dict__.pop(\"_y_name\", None)\n",
    "    patched.__dict__.pop(\"_x_name\", None)\n",
    "    patched.y_name = y_labels\n",
    "    patched.x_name = [x_label] * n_specs\n",
    "    patched.all_predictors = [x_label] * n_specs\n",
    "    patched.specs_names = pd.Series(list(range(n_specs)))\n",
    "    return patched"
   ]
  },
  {
   "cell_type": "markdown",
   "metadata": {},
   "source": [
    "## No-Controls, participant"
   ]
  },
  {
   "cell_type": "code",
   "execution_count": null,
   "metadata": {},
   "outputs": [
    {
     "name": "stdout",
     "output_type": "stream",
     "text": [
      "Calculating Composite Ys\n"
     ]
    },
    {
     "data": {
      "application/vnd.jupyter.widget-view+json": {
       "model_id": "d49886cb70d943138c58207751aefc42",
       "version_major": 2,
       "version_minor": 0
      },
      "text/plain": [
       "Output()"
      ]
     },
     "metadata": {},
     "output_type": "display_data"
    },
    {
     "name": "stdout",
     "output_type": "stream",
     "text": [
      "OLSRobust is running with n_cpu=24, draws=500, folds=10, seed=None.\n",
      "We're evaluating our out-of-sample predictions with the rmse metric.\n",
      "The estimand of interest is fctvho00r. Let's begin the calculations...\n"
     ]
    },
    {
     "data": {
      "text/html": [
       "<pre style=\"white-space:pre;overflow-x:auto;line-height:normal;font-family:Menlo,'DejaVu Sans Mono',consolas,'Courier New',monospace\"></pre>\n"
      ],
      "text/plain": []
     },
     "metadata": {},
     "output_type": "display_data"
    },
    {
     "name": "stdout",
     "output_type": "stream",
     "text": [
      "Calculating Composite Ys\n"
     ]
    },
    {
     "data": {
      "application/vnd.jupyter.widget-view+json": {
       "model_id": "c3861ce285904e03903177b1e8099e68",
       "version_major": 2,
       "version_minor": 0
      },
      "text/plain": [
       "Output()"
      ]
     },
     "metadata": {},
     "output_type": "display_data"
    },
    {
     "name": "stdout",
     "output_type": "stream",
     "text": [
      "OLSRobust is running with n_cpu=24, draws=500, folds=10, seed=None.\n",
      "We're evaluating our out-of-sample predictions with the rmse metric.\n",
      "The estimand of interest is fccomh00r. Let's begin the calculations...\n"
     ]
    }
   ],
   "source": [
    "y = [\n",
    "    \"fcmdsa00r\", \"fcmdsb00r\", \"fcmdsc00r\", \"fcmdsd00r\", \"fcmdse00r\", \"fcmdsf00r\",\n",
    "    \"fcmdsg00r\", \"fcmdsh00r\", \"fcmdsi00r\", \"fcmdsj00r\", \"fcmdsk00r\", \"fcmdsl00r\",\n",
    "    \"fcmdsm00r\", \"fcsati00r\", \"fcgdql00r\", \"fcdowl00r\", \"fcvalu00r\", \"fcgdsf00r\",\n",
    "    \"fcscwk00r\", \"fcwylk00r\", \"fcfmly00r\", \"fcfrns00r\", \"fcschl00r\", \"fclife00r\"\n",
    "]\n",
    "merged_results = None\n",
    "for x in predictors:\n",
    "    model = OLSRobust(y=y, x=x, data=data)\n",
    "    model.fit(\n",
    "        controls=[],\n",
    "        draws=n_draws,\n",
    "        composite_sample=y_sample,\n",
    "        rescale_x=True,\n",
    "        rescale_z=True,\n",
    "        kfold=10,\n",
    "        oos_metric=\"rmse\",\n",
    "        n_cpu=24,\n",
    "    )\n",
    "    patched = patch_for_merge(model.get_results())\n",
    "    if merged_results is None:\n",
    "        merged_results = concat_results([patched], de_dupe=False)\n",
    "    else:\n",
    "        merged_results = concat_results([merged_results, patched], de_dupe=False)"
   ]
  },
  {
   "cell_type": "markdown",
   "metadata": {},
   "source": [
    "## Control, Participant"
   ]
  },
  {
   "cell_type": "code",
   "execution_count": null,
   "metadata": {},
   "outputs": [],
   "source": [
    "for x in predictors:\n",
    "    model = OLSRobust(\n",
    "        y=y,\n",
    "        x=x + controls,\n",
    "        data=data\n",
    "    )\n",
    "    model.fit(\n",
    "        controls=[],\n",
    "        draws=n_draws,\n",
    "        composite_sample=y_sample,\n",
    "        rescale_x=True,\n",
    "        rescale_z=True,\n",
    "        kfold=10,\n",
    "        oos_metric=\"rmse\",\n",
    "        n_cpu=24,\n",
    "    )\n",
    "    patched = patch_for_merge(model.get_results())\n",
    "    merged_results = concat_results([merged_results, patched], de_dupe=False)"
   ]
  },
  {
   "cell_type": "markdown",
   "metadata": {},
   "source": [
    "## No Controls, Primary carers"
   ]
  },
  {
   "cell_type": "code",
   "execution_count": null,
   "metadata": {},
   "outputs": [],
   "source": [
    "y = [\n",
    "    \"fpsdpf00\", \"fpsdro00\", \"fpsdhs00\", \"fpsdsr00\", \"fpsdtt00\", \"fpsdsp00\",\n",
    "    \"fpsdor00\", \"fpsdmw00\", \"fpsdhu00\", \"fpsdfs00\", \"fpsdgf00\", \"fpsdfb00\",\n",
    "    \"fpsdud00\", \"fpsdlc00\", \"fpsddc00\", \"fpsdnc00\", \"fpsdky00\", \"fpsdoa00\",\n",
    "    \"fpsdpb00\", \"fpsdvh00\", \"fpsdst00\", \"fpsdcs00\", \"fpsdgb00\", \"fpsdfe00\",\n",
    "    \"fpsdte00\",\n",
    "]\n",
    "\n",
    "for x in predictors:\n",
    "    model = OLSRobust(\n",
    "        y=y,\n",
    "        x=x,\n",
    "        data=data\n",
    "    )\n",
    "    model.fit(\n",
    "        controls=[],\n",
    "        draws=n_draws,\n",
    "        composite_sample=y_sample,\n",
    "        rescale_x=True,\n",
    "        rescale_z=True,\n",
    "        kfold=10,\n",
    "        oos_metric=\"rmse\",\n",
    "        n_cpu=24,\n",
    "    )\n",
    "    patched = patch_for_merge(model.get_results())\n",
    "    merged_results = concat_results([merged_results, patched], de_dupe=False)"
   ]
  },
  {
   "cell_type": "markdown",
   "metadata": {},
   "source": [
    "## Controls, Primary Carers"
   ]
  },
  {
   "cell_type": "code",
   "execution_count": null,
   "metadata": {},
   "outputs": [],
   "source": [
    "for x in predictors:\n",
    "    model = OLSRobust(\n",
    "        y=y,\n",
    "        x=x+controls,\n",
    "        data=data\n",
    "    )\n",
    "    model.fit(\n",
    "        controls=[],\n",
    "        draws=n_draws,\n",
    "        composite_sample=y_sample,\n",
    "        rescale_x=True,\n",
    "        rescale_z=True,\n",
    "        kfold=10,\n",
    "        oos_metric=\"rmse\",\n",
    "        n_cpu=24,\n",
    "    )\n",
    "    patched = patch_for_merge(model.get_results())\n",
    "    merged_results = concat_results([merged_results, patched], de_dupe=False)"
   ]
  },
  {
   "cell_type": "code",
   "execution_count": null,
   "metadata": {},
   "outputs": [],
   "source": [
    "import matplotlib.pyplot as plt\n",
    "from matplotlib.gridspec import GridSpec\n",
    "\n",
    "from robustipy.figures import plot_curve, plot_hexbin_r2, plot_bdist\n",
    "\n",
    "fig = plt.figure(figsize=(12, 6))\n",
    "gs = GridSpec(6, 24, wspace=-.25, hspace=5)\n",
    "ax1 = fig.add_subplot(gs[0:6, 0:14])\n",
    "ax2 = fig.add_subplot(gs[0:3, 15:24])\n",
    "ax3 = fig.add_subplot(gs[3:6, 15:24])\n",
    "plot_curve(results_object=merged_results, loess=True,\n",
    "           ci=1, ax=ax1,\n",
    "           title='a.', highlights=False, inset=False)\n",
    "plot_hexbin_r2(merged_results, ax2, fig,\n",
    "               colormap='Spectral_r', title='b.', side='right',\n",
    "              oddsratio=False)\n",
    "plot_bdist(results_object=merged_results,\n",
    "           ax=ax3, oddsratio=False,\n",
    "           title='c.', despine_left=True, highlights=False,\n",
    "           legend_bool=False)\n",
    "\n",
    "\n",
    "info_text = (\n",
    "    f'Original Median: –0.005\\n'\n",
    "    f'RobustiPy Median: {merged_results.estimates.stack().median():.3f}\\n'\n",
    "    f'RobustiPy Min: {merged_results.estimates.stack().min():.3f}\\n'\n",
    "    f'RobustiPy Max: {merged_results.estimates.stack().max():.3f}'\n",
    ")\n",
    "ax1.text(0.05, 0.95, info_text, transform=ax1.transAxes, va='top', ha='left',\n",
    "         fontsize=10, color='black', bbox=dict(facecolor='white',\n",
    "                                           edgecolor='black', boxstyle='round,pad=1'));\n",
    "plt.savefig(\"../figures/nhb_2019/nhb_2019.pdf\", bbox_inches='tight')\n",
    "plt.savefig(\"../figures/nhb_2019/nhb_2019.png\", bbox_inches='tight', dpi=400)\n",
    "plt.savefig(\"../figures/nhb_2019/nhb_2019.svg\", bbox_inches='tight')"
   ]
  },
  {
   "cell_type": "code",
   "execution_count": null,
   "metadata": {},
   "outputs": [],
   "source": [
    "merged_results.estimates.stack().median()"
   ]
  }
 ],
 "metadata": {
  "kernelspec": {
   "display_name": "Python 3 (ipykernel)",
   "language": "python",
   "name": "python3"
  },
  "language_info": {
   "codemirror_mode": {
    "name": "ipython",
    "version": 3
   },
   "file_extension": ".py",
   "mimetype": "text/x-python",
   "name": "python",
   "nbconvert_exporter": "python",
   "pygments_lexer": "ipython3",
   "version": "3.11.5"
  }
 },
 "nbformat": 4,
 "nbformat_minor": 4
}
