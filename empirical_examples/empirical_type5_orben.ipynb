{
 "cells": [
  {
   "cell_type": "markdown",
   "metadata": {},
   "source": [
    "### Empirical Example for RobustiPY (Type 5)!\n",
    "\n",
    "This example is designed to show how RobustiPy can be estimated with multiple dependent variables. In particular, it replicates the wonderful paper by [Amy Orben & Andrew K. Przybylski in Nature Human Behaviour, 2019](https://www.nature.com/articles/s41562-018-0506-1). Data comes from the UK Data Service [here](https://beta.ukdataservice.ac.uk/datacatalogue/series/series?id=2000031). Code comes from Amy's GitHub page, available [here](https://github.com/OrbenAmy/NHB_2019/tree/master).\n"
   ]
  },
  {
   "cell_type": "code",
   "execution_count": 1,
   "metadata": {},
   "outputs": [],
   "source": [
    "import warnings\n",
    "from copy import deepcopy\n",
    "\n",
    "import matplotlib.pyplot as plt\n",
    "import pandas as pd\n",
    "from matplotlib.gridspec import GridSpec\n",
    "\n",
    "from robustipy.figures import plot_bdist, plot_curve, plot_hexbin_r2\n",
    "from robustipy.models import OLSRobust, stouffer_method\n",
    "from robustipy.prototypes import MissingValueWarning\n",
    "from robustipy.utils import concat_results\n",
    "\n",
    "\n",
    "warnings.filterwarnings(\n",
    "    action=\"ignore\",\n",
    "    category=MissingValueWarning,\n",
    "    module=r\"robustipy\\.prototypes\"\n",
    ")\n",
    "\n",
    "n_draws = 250\n",
    "y_sample= 250"
   ]
  },
  {
   "cell_type": "code",
   "execution_count": 2,
   "metadata": {},
   "outputs": [],
   "source": [
    "## lists of predictors\n",
    "predictors = [\n",
    "    [\"fctvho00r\"],\n",
    "    [\"fccomh00r\"],\n",
    "    [\"fccmex00r\"],\n",
    "    [\"fcinth00r\"],\n",
    "    [\"fcsome00r\"],\n",
    "    [\"tech\"]\n",
    "]\n",
    "controls = [\n",
    "    \"edumot\",\n",
    "    \"fd06e00\",\n",
    "    \"clpar\",\n",
    "    \"fcpaab00\",\n",
    "    \"fpwrdscm\",\n",
    "    \"fdacaq00\",\n",
    "    \"fd05s00\",\n",
    "    \"fpclsi00\",\n",
    "    \"fpchti00\",\n",
    "    \"fdkessl\",\n",
    "    \"fdtots00\",\n",
    "    \"foede000\"\n",
    "]"
   ]
  },
  {
   "cell_type": "code",
   "execution_count": 3,
   "metadata": {},
   "outputs": [],
   "source": [
    "data = pd.read_csv('../data/nhb_2019/1_3_prep_mcs_data.csv', low_memory=False)"
   ]
  },
  {
   "cell_type": "code",
   "execution_count": 4,
   "metadata": {},
   "outputs": [],
   "source": [
    "def patch_for_merge(results):\n",
    "    n_specs = results.summary_df.shape[0]\n",
    "    patched = deepcopy(results)\n",
    "    x_label  = \", \".join(x) if isinstance(x, list) else str(x)\n",
    "    y_labels = [f\"composite_y_{i+1}\" for i in range(n_specs)]\n",
    "    if len(patched.all_b) == 1:\n",
    "        patched.all_b = patched.all_b * n_specs\n",
    "    if len(patched.all_p) == 1:\n",
    "        patched.all_p = patched.all_p * n_specs\n",
    "    patched.__dict__.pop(\"_y_name\", None)\n",
    "    patched.__dict__.pop(\"_x_name\", None)\n",
    "    patched.y_name = y_labels\n",
    "    patched.x_name = [x_label] * n_specs\n",
    "    patched.all_predictors = [x_label] * n_specs\n",
    "    patched.specs_names = pd.Series(list(range(n_specs)))\n",
    "    return patched"
   ]
  },
  {
   "cell_type": "markdown",
   "metadata": {},
   "source": [
    "## No-Controls, participant"
   ]
  },
  {
   "cell_type": "code",
   "execution_count": 5,
   "metadata": {},
   "outputs": [
    {
     "name": "stdout",
     "output_type": "stream",
     "text": [
      "Calculating Composite Ys\n"
     ]
    },
    {
     "data": {
      "application/vnd.jupyter.widget-view+json": {
       "model_id": "5cf4e0721ced4b848bac1b46b769a3c6",
       "version_major": 2,
       "version_minor": 0
      },
      "text/plain": [
       "Output()"
      ]
     },
     "metadata": {},
     "output_type": "display_data"
    },
    {
     "name": "stdout",
     "output_type": "stream",
     "text": [
      "OLSRobust is running with n_cpu=15, draws=250, folds=10, seed=192735.\n",
      "We're evaluating our out-of-sample predictions with the rmse metric.\n",
      "The estimand of interest is fctvho00r. Let's begin the calculations...\n",
      "Total model runs: 62,500 (draws=250, control_specs=1, y_composites=250)\n"
     ]
    },
    {
     "data": {
      "text/html": [
       "<pre style=\"white-space:pre;overflow-x:auto;line-height:normal;font-family:Menlo,'DejaVu Sans Mono',consolas,'Courier New',monospace\"></pre>\n"
      ],
      "text/plain": []
     },
     "metadata": {},
     "output_type": "display_data"
    },
    {
     "name": "stdout",
     "output_type": "stream",
     "text": [
      "WARNING: clipping 250 p=0 and 0 p=1 to [1e-300, 1].\n",
      "Calculating Composite Ys\n"
     ]
    },
    {
     "data": {
      "application/vnd.jupyter.widget-view+json": {
       "model_id": "dfca90ae5bca4e5ea537e76b90b9c06d",
       "version_major": 2,
       "version_minor": 0
      },
      "text/plain": [
       "Output()"
      ]
     },
     "metadata": {},
     "output_type": "display_data"
    },
    {
     "name": "stdout",
     "output_type": "stream",
     "text": [
      "OLSRobust is running with n_cpu=15, draws=250, folds=10, seed=192735.\n",
      "We're evaluating our out-of-sample predictions with the rmse metric.\n",
      "The estimand of interest is fccomh00r. Let's begin the calculations...\n",
      "Total model runs: 62,500 (draws=250, control_specs=1, y_composites=250)\n"
     ]
    },
    {
     "data": {
      "text/html": [
       "<pre style=\"white-space:pre;overflow-x:auto;line-height:normal;font-family:Menlo,'DejaVu Sans Mono',consolas,'Courier New',monospace\"></pre>\n"
      ],
      "text/plain": []
     },
     "metadata": {},
     "output_type": "display_data"
    },
    {
     "name": "stdout",
     "output_type": "stream",
     "text": [
      "WARNING: clipping 5 p=0 and 0 p=1 to [1e-300, 1].\n",
      "Calculating Composite Ys\n"
     ]
    },
    {
     "data": {
      "application/vnd.jupyter.widget-view+json": {
       "model_id": "64d2fc49e9b54465a2cdb52151246740",
       "version_major": 2,
       "version_minor": 0
      },
      "text/plain": [
       "Output()"
      ]
     },
     "metadata": {},
     "output_type": "display_data"
    },
    {
     "name": "stdout",
     "output_type": "stream",
     "text": [
      "OLSRobust is running with n_cpu=15, draws=250, folds=10, seed=192735.\n",
      "We're evaluating our out-of-sample predictions with the rmse metric.\n",
      "The estimand of interest is fccmex00r. Let's begin the calculations...\n",
      "Total model runs: 62,500 (draws=250, control_specs=1, y_composites=250)\n"
     ]
    },
    {
     "data": {
      "text/html": [
       "<pre style=\"white-space:pre;overflow-x:auto;line-height:normal;font-family:Menlo,'DejaVu Sans Mono',consolas,'Courier New',monospace\"></pre>\n"
      ],
      "text/plain": []
     },
     "metadata": {},
     "output_type": "display_data"
    },
    {
     "name": "stdout",
     "output_type": "stream",
     "text": [
      "Calculating Composite Ys\n"
     ]
    },
    {
     "data": {
      "application/vnd.jupyter.widget-view+json": {
       "model_id": "f9b96d82798048bea1ca29f84ca72ce4",
       "version_major": 2,
       "version_minor": 0
      },
      "text/plain": [
       "Output()"
      ]
     },
     "metadata": {},
     "output_type": "display_data"
    },
    {
     "name": "stdout",
     "output_type": "stream",
     "text": [
      "OLSRobust is running with n_cpu=15, draws=250, folds=10, seed=192735.\n",
      "We're evaluating our out-of-sample predictions with the rmse metric.\n",
      "The estimand of interest is fcinth00r. Let's begin the calculations...\n",
      "Total model runs: 62,500 (draws=250, control_specs=1, y_composites=250)\n"
     ]
    },
    {
     "data": {
      "text/html": [
       "<pre style=\"white-space:pre;overflow-x:auto;line-height:normal;font-family:Menlo,'DejaVu Sans Mono',consolas,'Courier New',monospace\"></pre>\n"
      ],
      "text/plain": []
     },
     "metadata": {},
     "output_type": "display_data"
    },
    {
     "name": "stdout",
     "output_type": "stream",
     "text": [
      "WARNING: clipping 250 p=0 and 0 p=1 to [1e-300, 1].\n",
      "Calculating Composite Ys\n"
     ]
    },
    {
     "data": {
      "application/vnd.jupyter.widget-view+json": {
       "model_id": "b82a387458884c019b06d25a757a95eb",
       "version_major": 2,
       "version_minor": 0
      },
      "text/plain": [
       "Output()"
      ]
     },
     "metadata": {},
     "output_type": "display_data"
    },
    {
     "name": "stdout",
     "output_type": "stream",
     "text": [
      "OLSRobust is running with n_cpu=15, draws=250, folds=10, seed=192735.\n",
      "We're evaluating our out-of-sample predictions with the rmse metric.\n",
      "The estimand of interest is fcsome00r. Let's begin the calculations...\n",
      "Total model runs: 62,500 (draws=250, control_specs=1, y_composites=250)\n"
     ]
    },
    {
     "data": {
      "text/html": [
       "<pre style=\"white-space:pre;overflow-x:auto;line-height:normal;font-family:Menlo,'DejaVu Sans Mono',consolas,'Courier New',monospace\"></pre>\n"
      ],
      "text/plain": []
     },
     "metadata": {},
     "output_type": "display_data"
    },
    {
     "name": "stdout",
     "output_type": "stream",
     "text": [
      "WARNING: clipping 250 p=0 and 0 p=1 to [1e-300, 1].\n",
      "Calculating Composite Ys\n"
     ]
    },
    {
     "data": {
      "application/vnd.jupyter.widget-view+json": {
       "model_id": "41c1ac57691e45398a0bab68e6ededf9",
       "version_major": 2,
       "version_minor": 0
      },
      "text/plain": [
       "Output()"
      ]
     },
     "metadata": {},
     "output_type": "display_data"
    },
    {
     "name": "stdout",
     "output_type": "stream",
     "text": [
      "OLSRobust is running with n_cpu=15, draws=250, folds=10, seed=192735.\n",
      "We're evaluating our out-of-sample predictions with the rmse metric.\n",
      "The estimand of interest is tech. Let's begin the calculations...\n",
      "Total model runs: 62,500 (draws=250, control_specs=1, y_composites=250)\n"
     ]
    },
    {
     "data": {
      "text/html": [
       "<pre style=\"white-space:pre;overflow-x:auto;line-height:normal;font-family:Menlo,'DejaVu Sans Mono',consolas,'Courier New',monospace\"></pre>\n"
      ],
      "text/plain": []
     },
     "metadata": {},
     "output_type": "display_data"
    },
    {
     "name": "stdout",
     "output_type": "stream",
     "text": [
      "WARNING: clipping 250 p=0 and 0 p=1 to [1e-300, 1].\n"
     ]
    }
   ],
   "source": [
    "y = [\n",
    "    \"fcmdsa00r\", \"fcmdsb00r\", \"fcmdsc00r\", \"fcmdsd00r\", \"fcmdse00r\", \"fcmdsf00r\",\n",
    "    \"fcmdsg00r\", \"fcmdsh00r\", \"fcmdsi00r\", \"fcmdsj00r\", \"fcmdsk00r\", \"fcmdsl00r\",\n",
    "    \"fcmdsm00r\", \"fcsati00r\", \"fcgdql00r\", \"fcdowl00r\", \"fcvalu00r\", \"fcgdsf00r\",\n",
    "    \"fcscwk00r\", \"fcwylk00r\", \"fcfmly00r\", \"fcfrns00r\", \"fcschl00r\", \"fclife00r\"\n",
    "]\n",
    "merged_results = None\n",
    "for x in predictors:\n",
    "    model = OLSRobust(y=y, x=x, data=data)\n",
    "    model.fit(\n",
    "        controls=[],\n",
    "        draws=n_draws,\n",
    "        composite_sample=y_sample,\n",
    "        rescale_x=True,\n",
    "        rescale_z=True,\n",
    "        kfold=10,\n",
    "        oos_metric=\"rmse\",\n",
    "        seed=192735,\n",
    "        n_cpu=15,\n",
    "    )\n",
    "    patched = patch_for_merge(model.get_results())\n",
    "    if merged_results is None:\n",
    "        merged_results = concat_results([patched], de_dupe=False)\n",
    "    else:\n",
    "        merged_results = concat_results([merged_results, patched], de_dupe=False)"
   ]
  },
  {
   "cell_type": "markdown",
   "metadata": {},
   "source": [
    "## Control, Participant"
   ]
  },
  {
   "cell_type": "code",
   "execution_count": 6,
   "metadata": {},
   "outputs": [
    {
     "name": "stdout",
     "output_type": "stream",
     "text": [
      "Calculating Composite Ys\n"
     ]
    },
    {
     "data": {
      "application/vnd.jupyter.widget-view+json": {
       "model_id": "134a295a8fbf486a81969c2a1fbd3b6e",
       "version_major": 2,
       "version_minor": 0
      },
      "text/plain": [
       "Output()"
      ]
     },
     "metadata": {},
     "output_type": "display_data"
    },
    {
     "name": "stdout",
     "output_type": "stream",
     "text": [
      "OLSRobust is running with n_cpu=15, draws=250, folds=10, seed=192735.\n",
      "We're evaluating our out-of-sample predictions with the rmse metric.\n",
      "The estimand of interest is fctvho00r. Let's begin the calculations...\n",
      "Total model runs: 62,500 (draws=250, control_specs=1, y_composites=250)\n"
     ]
    },
    {
     "data": {
      "text/html": [
       "<pre style=\"white-space:pre;overflow-x:auto;line-height:normal;font-family:Menlo,'DejaVu Sans Mono',consolas,'Courier New',monospace\"></pre>\n"
      ],
      "text/plain": []
     },
     "metadata": {},
     "output_type": "display_data"
    },
    {
     "name": "stdout",
     "output_type": "stream",
     "text": [
      "Calculating Composite Ys\n"
     ]
    },
    {
     "data": {
      "application/vnd.jupyter.widget-view+json": {
       "model_id": "cbcc700936b6438f91a633c2c0ac5255",
       "version_major": 2,
       "version_minor": 0
      },
      "text/plain": [
       "Output()"
      ]
     },
     "metadata": {},
     "output_type": "display_data"
    },
    {
     "name": "stdout",
     "output_type": "stream",
     "text": [
      "OLSRobust is running with n_cpu=15, draws=250, folds=10, seed=192735.\n",
      "We're evaluating our out-of-sample predictions with the rmse metric.\n",
      "The estimand of interest is fccomh00r. Let's begin the calculations...\n",
      "Total model runs: 62,500 (draws=250, control_specs=1, y_composites=250)\n"
     ]
    },
    {
     "data": {
      "text/html": [
       "<pre style=\"white-space:pre;overflow-x:auto;line-height:normal;font-family:Menlo,'DejaVu Sans Mono',consolas,'Courier New',monospace\"></pre>\n"
      ],
      "text/plain": []
     },
     "metadata": {},
     "output_type": "display_data"
    },
    {
     "name": "stdout",
     "output_type": "stream",
     "text": [
      "WARNING: clipping 178 p=0 and 0 p=1 to [1e-300, 1].\n",
      "Calculating Composite Ys\n"
     ]
    },
    {
     "data": {
      "application/vnd.jupyter.widget-view+json": {
       "model_id": "e350704956e34b9a9637a176f276bfae",
       "version_major": 2,
       "version_minor": 0
      },
      "text/plain": [
       "Output()"
      ]
     },
     "metadata": {},
     "output_type": "display_data"
    },
    {
     "name": "stdout",
     "output_type": "stream",
     "text": [
      "OLSRobust is running with n_cpu=15, draws=250, folds=10, seed=192735.\n",
      "We're evaluating our out-of-sample predictions with the rmse metric.\n",
      "The estimand of interest is fccmex00r. Let's begin the calculations...\n",
      "Total model runs: 62,500 (draws=250, control_specs=1, y_composites=250)\n"
     ]
    },
    {
     "data": {
      "text/html": [
       "<pre style=\"white-space:pre;overflow-x:auto;line-height:normal;font-family:Menlo,'DejaVu Sans Mono',consolas,'Courier New',monospace\"></pre>\n"
      ],
      "text/plain": []
     },
     "metadata": {},
     "output_type": "display_data"
    },
    {
     "name": "stdout",
     "output_type": "stream",
     "text": [
      "Calculating Composite Ys\n"
     ]
    },
    {
     "data": {
      "application/vnd.jupyter.widget-view+json": {
       "model_id": "672705979e534a44b3464f02de376f40",
       "version_major": 2,
       "version_minor": 0
      },
      "text/plain": [
       "Output()"
      ]
     },
     "metadata": {},
     "output_type": "display_data"
    },
    {
     "name": "stdout",
     "output_type": "stream",
     "text": [
      "OLSRobust is running with n_cpu=15, draws=250, folds=10, seed=192735.\n",
      "We're evaluating our out-of-sample predictions with the rmse metric.\n",
      "The estimand of interest is fcinth00r. Let's begin the calculations...\n",
      "Total model runs: 62,500 (draws=250, control_specs=1, y_composites=250)\n"
     ]
    },
    {
     "data": {
      "text/html": [
       "<pre style=\"white-space:pre;overflow-x:auto;line-height:normal;font-family:Menlo,'DejaVu Sans Mono',consolas,'Courier New',monospace\"></pre>\n"
      ],
      "text/plain": []
     },
     "metadata": {},
     "output_type": "display_data"
    },
    {
     "name": "stdout",
     "output_type": "stream",
     "text": [
      "WARNING: clipping 14 p=0 and 0 p=1 to [1e-300, 1].\n",
      "Calculating Composite Ys\n"
     ]
    },
    {
     "data": {
      "application/vnd.jupyter.widget-view+json": {
       "model_id": "cde2424bf2564be99cbd13c7511fdbf5",
       "version_major": 2,
       "version_minor": 0
      },
      "text/plain": [
       "Output()"
      ]
     },
     "metadata": {},
     "output_type": "display_data"
    },
    {
     "name": "stdout",
     "output_type": "stream",
     "text": [
      "OLSRobust is running with n_cpu=15, draws=250, folds=10, seed=192735.\n",
      "We're evaluating our out-of-sample predictions with the rmse metric.\n",
      "The estimand of interest is fcsome00r. Let's begin the calculations...\n",
      "Total model runs: 62,500 (draws=250, control_specs=1, y_composites=250)\n"
     ]
    },
    {
     "data": {
      "text/html": [
       "<pre style=\"white-space:pre;overflow-x:auto;line-height:normal;font-family:Menlo,'DejaVu Sans Mono',consolas,'Courier New',monospace\"></pre>\n"
      ],
      "text/plain": []
     },
     "metadata": {},
     "output_type": "display_data"
    },
    {
     "name": "stdout",
     "output_type": "stream",
     "text": [
      "WARNING: clipping 59 p=0 and 0 p=1 to [1e-300, 1].\n",
      "Calculating Composite Ys\n"
     ]
    },
    {
     "data": {
      "application/vnd.jupyter.widget-view+json": {
       "model_id": "45253738a0684c0eb0c446b498ed14f9",
       "version_major": 2,
       "version_minor": 0
      },
      "text/plain": [
       "Output()"
      ]
     },
     "metadata": {},
     "output_type": "display_data"
    },
    {
     "name": "stdout",
     "output_type": "stream",
     "text": [
      "OLSRobust is running with n_cpu=15, draws=250, folds=10, seed=192735.\n",
      "We're evaluating our out-of-sample predictions with the rmse metric.\n",
      "The estimand of interest is tech. Let's begin the calculations...\n",
      "Total model runs: 62,500 (draws=250, control_specs=1, y_composites=250)\n"
     ]
    },
    {
     "data": {
      "text/html": [
       "<pre style=\"white-space:pre;overflow-x:auto;line-height:normal;font-family:Menlo,'DejaVu Sans Mono',consolas,'Courier New',monospace\"></pre>\n"
      ],
      "text/plain": []
     },
     "metadata": {},
     "output_type": "display_data"
    }
   ],
   "source": [
    "for x in predictors:\n",
    "    model = OLSRobust(\n",
    "        y=y,\n",
    "        x=x + controls,\n",
    "        data=data\n",
    "    )\n",
    "    model.fit(\n",
    "        controls=[],\n",
    "        draws=n_draws,\n",
    "        composite_sample=y_sample,\n",
    "        rescale_x=True,\n",
    "        rescale_z=True,\n",
    "        seed=192735,\n",
    "        kfold=10,\n",
    "        oos_metric=\"rmse\",\n",
    "        n_cpu=15,\n",
    "    )\n",
    "    patched = patch_for_merge(model.get_results())\n",
    "    merged_results = concat_results([merged_results, patched], de_dupe=False)"
   ]
  },
  {
   "cell_type": "markdown",
   "metadata": {},
   "source": [
    "## No Controls, Primary carers"
   ]
  },
  {
   "cell_type": "code",
   "execution_count": 7,
   "metadata": {},
   "outputs": [
    {
     "name": "stdout",
     "output_type": "stream",
     "text": [
      "Calculating Composite Ys\n"
     ]
    },
    {
     "data": {
      "application/vnd.jupyter.widget-view+json": {
       "model_id": "cbc27c3ee23d4ad78963db266bbfc1df",
       "version_major": 2,
       "version_minor": 0
      },
      "text/plain": [
       "Output()"
      ]
     },
     "metadata": {},
     "output_type": "display_data"
    },
    {
     "name": "stdout",
     "output_type": "stream",
     "text": [
      "OLSRobust is running with n_cpu=15, draws=250, folds=10, seed=192735.\n",
      "We're evaluating our out-of-sample predictions with the rmse metric.\n",
      "The estimand of interest is fctvho00r. Let's begin the calculations...\n",
      "Total model runs: 62,500 (draws=250, control_specs=1, y_composites=250)\n"
     ]
    },
    {
     "data": {
      "text/html": [
       "<pre style=\"white-space:pre;overflow-x:auto;line-height:normal;font-family:Menlo,'DejaVu Sans Mono',consolas,'Courier New',monospace\"></pre>\n"
      ],
      "text/plain": []
     },
     "metadata": {},
     "output_type": "display_data"
    },
    {
     "name": "stdout",
     "output_type": "stream",
     "text": [
      "Calculating Composite Ys\n"
     ]
    },
    {
     "data": {
      "application/vnd.jupyter.widget-view+json": {
       "model_id": "c3cba0d80e424a9693bc9402ce491559",
       "version_major": 2,
       "version_minor": 0
      },
      "text/plain": [
       "Output()"
      ]
     },
     "metadata": {},
     "output_type": "display_data"
    },
    {
     "name": "stdout",
     "output_type": "stream",
     "text": [
      "OLSRobust is running with n_cpu=15, draws=250, folds=10, seed=192735.\n",
      "We're evaluating our out-of-sample predictions with the rmse metric.\n",
      "The estimand of interest is fccomh00r. Let's begin the calculations...\n",
      "Total model runs: 62,500 (draws=250, control_specs=1, y_composites=250)\n"
     ]
    },
    {
     "data": {
      "text/html": [
       "<pre style=\"white-space:pre;overflow-x:auto;line-height:normal;font-family:Menlo,'DejaVu Sans Mono',consolas,'Courier New',monospace\"></pre>\n"
      ],
      "text/plain": []
     },
     "metadata": {},
     "output_type": "display_data"
    },
    {
     "name": "stdout",
     "output_type": "stream",
     "text": [
      "WARNING: clipping 248 p=0 and 0 p=1 to [1e-300, 1].\n",
      "Calculating Composite Ys\n"
     ]
    },
    {
     "data": {
      "application/vnd.jupyter.widget-view+json": {
       "model_id": "5e4eeafd00b14560b6e2975eab5dd4c2",
       "version_major": 2,
       "version_minor": 0
      },
      "text/plain": [
       "Output()"
      ]
     },
     "metadata": {},
     "output_type": "display_data"
    },
    {
     "name": "stdout",
     "output_type": "stream",
     "text": [
      "OLSRobust is running with n_cpu=15, draws=250, folds=10, seed=192735.\n",
      "We're evaluating our out-of-sample predictions with the rmse metric.\n",
      "The estimand of interest is fccmex00r. Let's begin the calculations...\n",
      "Total model runs: 62,500 (draws=250, control_specs=1, y_composites=250)\n"
     ]
    },
    {
     "data": {
      "text/html": [
       "<pre style=\"white-space:pre;overflow-x:auto;line-height:normal;font-family:Menlo,'DejaVu Sans Mono',consolas,'Courier New',monospace\"></pre>\n"
      ],
      "text/plain": []
     },
     "metadata": {},
     "output_type": "display_data"
    },
    {
     "name": "stdout",
     "output_type": "stream",
     "text": [
      "WARNING: clipping 1 p=0 and 0 p=1 to [1e-300, 1].\n",
      "Calculating Composite Ys\n"
     ]
    },
    {
     "data": {
      "application/vnd.jupyter.widget-view+json": {
       "model_id": "88eec059ae8444e787039f175a9b7398",
       "version_major": 2,
       "version_minor": 0
      },
      "text/plain": [
       "Output()"
      ]
     },
     "metadata": {},
     "output_type": "display_data"
    },
    {
     "name": "stdout",
     "output_type": "stream",
     "text": [
      "OLSRobust is running with n_cpu=15, draws=250, folds=10, seed=192735.\n",
      "We're evaluating our out-of-sample predictions with the rmse metric.\n",
      "The estimand of interest is fcinth00r. Let's begin the calculations...\n",
      "Total model runs: 62,500 (draws=250, control_specs=1, y_composites=250)\n"
     ]
    },
    {
     "data": {
      "text/html": [
       "<pre style=\"white-space:pre;overflow-x:auto;line-height:normal;font-family:Menlo,'DejaVu Sans Mono',consolas,'Courier New',monospace\"></pre>\n"
      ],
      "text/plain": []
     },
     "metadata": {},
     "output_type": "display_data"
    },
    {
     "name": "stdout",
     "output_type": "stream",
     "text": [
      "Calculating Composite Ys\n"
     ]
    },
    {
     "data": {
      "application/vnd.jupyter.widget-view+json": {
       "model_id": "6ece958408a64c4a818df363fc7bde9e",
       "version_major": 2,
       "version_minor": 0
      },
      "text/plain": [
       "Output()"
      ]
     },
     "metadata": {},
     "output_type": "display_data"
    },
    {
     "name": "stdout",
     "output_type": "stream",
     "text": [
      "OLSRobust is running with n_cpu=15, draws=250, folds=10, seed=192735.\n",
      "We're evaluating our out-of-sample predictions with the rmse metric.\n",
      "The estimand of interest is fcsome00r. Let's begin the calculations...\n",
      "Total model runs: 62,500 (draws=250, control_specs=1, y_composites=250)\n"
     ]
    },
    {
     "data": {
      "text/html": [
       "<pre style=\"white-space:pre;overflow-x:auto;line-height:normal;font-family:Menlo,'DejaVu Sans Mono',consolas,'Courier New',monospace\"></pre>\n"
      ],
      "text/plain": []
     },
     "metadata": {},
     "output_type": "display_data"
    },
    {
     "name": "stdout",
     "output_type": "stream",
     "text": [
      "Calculating Composite Ys\n"
     ]
    },
    {
     "data": {
      "application/vnd.jupyter.widget-view+json": {
       "model_id": "32f3a47b4fd045e08f7e8c4ee5fc4ffd",
       "version_major": 2,
       "version_minor": 0
      },
      "text/plain": [
       "Output()"
      ]
     },
     "metadata": {},
     "output_type": "display_data"
    },
    {
     "name": "stdout",
     "output_type": "stream",
     "text": [
      "OLSRobust is running with n_cpu=15, draws=250, folds=10, seed=192735.\n",
      "We're evaluating our out-of-sample predictions with the rmse metric.\n",
      "The estimand of interest is tech. Let's begin the calculations...\n",
      "Total model runs: 62,500 (draws=250, control_specs=1, y_composites=250)\n"
     ]
    },
    {
     "data": {
      "text/html": [
       "<pre style=\"white-space:pre;overflow-x:auto;line-height:normal;font-family:Menlo,'DejaVu Sans Mono',consolas,'Courier New',monospace\"></pre>\n"
      ],
      "text/plain": []
     },
     "metadata": {},
     "output_type": "display_data"
    },
    {
     "name": "stdout",
     "output_type": "stream",
     "text": [
      "WARNING: clipping 3 p=0 and 0 p=1 to [1e-300, 1].\n"
     ]
    }
   ],
   "source": [
    "y = [\n",
    "    \"fpsdpf00\", \"fpsdro00\", \"fpsdhs00\", \"fpsdsr00\", \"fpsdtt00\", \"fpsdsp00\",\n",
    "    \"fpsdor00\", \"fpsdmw00\", \"fpsdhu00\", \"fpsdfs00\", \"fpsdgf00\", \"fpsdfb00\",\n",
    "    \"fpsdud00\", \"fpsdlc00\", \"fpsddc00\", \"fpsdnc00\", \"fpsdky00\", \"fpsdoa00\",\n",
    "    \"fpsdpb00\", \"fpsdvh00\", \"fpsdst00\", \"fpsdcs00\", \"fpsdgb00\", \"fpsdfe00\",\n",
    "    \"fpsdte00\",\n",
    "]\n",
    "\n",
    "for x in predictors:\n",
    "    model = OLSRobust(\n",
    "        y=y,\n",
    "        x=x,\n",
    "        data=data\n",
    "    )\n",
    "    model.fit(\n",
    "        controls=[],\n",
    "        draws=n_draws,\n",
    "        composite_sample=y_sample,\n",
    "        rescale_x=True,\n",
    "        rescale_z=True,\n",
    "        seed=192735,\n",
    "        kfold=10,\n",
    "        oos_metric=\"rmse\",\n",
    "        n_cpu=15,\n",
    "    )\n",
    "    patched = patch_for_merge(model.get_results())\n",
    "    merged_results = concat_results([merged_results, patched], de_dupe=False)"
   ]
  },
  {
   "cell_type": "markdown",
   "metadata": {},
   "source": [
    "## Controls, Primary Carers"
   ]
  },
  {
   "cell_type": "code",
   "execution_count": 8,
   "metadata": {},
   "outputs": [
    {
     "name": "stdout",
     "output_type": "stream",
     "text": [
      "Calculating Composite Ys\n"
     ]
    },
    {
     "data": {
      "application/vnd.jupyter.widget-view+json": {
       "model_id": "3638060ca2214826935e24602e2ff3b9",
       "version_major": 2,
       "version_minor": 0
      },
      "text/plain": [
       "Output()"
      ]
     },
     "metadata": {},
     "output_type": "display_data"
    },
    {
     "name": "stdout",
     "output_type": "stream",
     "text": [
      "OLSRobust is running with n_cpu=15, draws=250, folds=10, seed=192735.\n",
      "We're evaluating our out-of-sample predictions with the rmse metric.\n",
      "The estimand of interest is fctvho00r. Let's begin the calculations...\n",
      "Total model runs: 62,500 (draws=250, control_specs=1, y_composites=250)\n"
     ]
    },
    {
     "data": {
      "text/html": [
       "<pre style=\"white-space:pre;overflow-x:auto;line-height:normal;font-family:Menlo,'DejaVu Sans Mono',consolas,'Courier New',monospace\"></pre>\n"
      ],
      "text/plain": []
     },
     "metadata": {},
     "output_type": "display_data"
    },
    {
     "name": "stdout",
     "output_type": "stream",
     "text": [
      "Calculating Composite Ys\n"
     ]
    },
    {
     "data": {
      "application/vnd.jupyter.widget-view+json": {
       "model_id": "6682a3c036404b3d8b9d01e5a1fcd5cb",
       "version_major": 2,
       "version_minor": 0
      },
      "text/plain": [
       "Output()"
      ]
     },
     "metadata": {},
     "output_type": "display_data"
    },
    {
     "name": "stdout",
     "output_type": "stream",
     "text": [
      "OLSRobust is running with n_cpu=15, draws=250, folds=10, seed=192735.\n",
      "We're evaluating our out-of-sample predictions with the rmse metric.\n",
      "The estimand of interest is fccomh00r. Let's begin the calculations...\n",
      "Total model runs: 62,500 (draws=250, control_specs=1, y_composites=250)\n"
     ]
    },
    {
     "data": {
      "text/html": [
       "<pre style=\"white-space:pre;overflow-x:auto;line-height:normal;font-family:Menlo,'DejaVu Sans Mono',consolas,'Courier New',monospace\"></pre>\n"
      ],
      "text/plain": []
     },
     "metadata": {},
     "output_type": "display_data"
    },
    {
     "name": "stdout",
     "output_type": "stream",
     "text": [
      "WARNING: clipping 113 p=0 and 0 p=1 to [1e-300, 1].\n",
      "Calculating Composite Ys\n"
     ]
    },
    {
     "data": {
      "application/vnd.jupyter.widget-view+json": {
       "model_id": "d47a2b9743dd4bc6903c5d337592bc9e",
       "version_major": 2,
       "version_minor": 0
      },
      "text/plain": [
       "Output()"
      ]
     },
     "metadata": {},
     "output_type": "display_data"
    },
    {
     "name": "stdout",
     "output_type": "stream",
     "text": [
      "OLSRobust is running with n_cpu=15, draws=250, folds=10, seed=192735.\n",
      "We're evaluating our out-of-sample predictions with the rmse metric.\n",
      "The estimand of interest is fccmex00r. Let's begin the calculations...\n",
      "Total model runs: 62,500 (draws=250, control_specs=1, y_composites=250)\n"
     ]
    },
    {
     "data": {
      "text/html": [
       "<pre style=\"white-space:pre;overflow-x:auto;line-height:normal;font-family:Menlo,'DejaVu Sans Mono',consolas,'Courier New',monospace\"></pre>\n"
      ],
      "text/plain": []
     },
     "metadata": {},
     "output_type": "display_data"
    },
    {
     "name": "stdout",
     "output_type": "stream",
     "text": [
      "Calculating Composite Ys\n"
     ]
    },
    {
     "data": {
      "application/vnd.jupyter.widget-view+json": {
       "model_id": "5ff01d95e1984d4aad35c34e8b0b3783",
       "version_major": 2,
       "version_minor": 0
      },
      "text/plain": [
       "Output()"
      ]
     },
     "metadata": {},
     "output_type": "display_data"
    },
    {
     "name": "stdout",
     "output_type": "stream",
     "text": [
      "OLSRobust is running with n_cpu=15, draws=250, folds=10, seed=192735.\n",
      "We're evaluating our out-of-sample predictions with the rmse metric.\n",
      "The estimand of interest is fcinth00r. Let's begin the calculations...\n",
      "Total model runs: 62,500 (draws=250, control_specs=1, y_composites=250)\n"
     ]
    },
    {
     "data": {
      "text/html": [
       "<pre style=\"white-space:pre;overflow-x:auto;line-height:normal;font-family:Menlo,'DejaVu Sans Mono',consolas,'Courier New',monospace\"></pre>\n"
      ],
      "text/plain": []
     },
     "metadata": {},
     "output_type": "display_data"
    },
    {
     "name": "stdout",
     "output_type": "stream",
     "text": [
      "Calculating Composite Ys\n"
     ]
    },
    {
     "data": {
      "application/vnd.jupyter.widget-view+json": {
       "model_id": "363f04848c3f4ad39596edbf4aeb9192",
       "version_major": 2,
       "version_minor": 0
      },
      "text/plain": [
       "Output()"
      ]
     },
     "metadata": {},
     "output_type": "display_data"
    },
    {
     "name": "stdout",
     "output_type": "stream",
     "text": [
      "OLSRobust is running with n_cpu=15, draws=250, folds=10, seed=192735.\n",
      "We're evaluating our out-of-sample predictions with the rmse metric.\n",
      "The estimand of interest is fcsome00r. Let's begin the calculations...\n",
      "Total model runs: 62,500 (draws=250, control_specs=1, y_composites=250)\n"
     ]
    },
    {
     "data": {
      "text/html": [
       "<pre style=\"white-space:pre;overflow-x:auto;line-height:normal;font-family:Menlo,'DejaVu Sans Mono',consolas,'Courier New',monospace\"></pre>\n"
      ],
      "text/plain": []
     },
     "metadata": {},
     "output_type": "display_data"
    },
    {
     "name": "stdout",
     "output_type": "stream",
     "text": [
      "WARNING: clipping 74 p=0 and 0 p=1 to [1e-300, 1].\n",
      "Calculating Composite Ys\n"
     ]
    },
    {
     "data": {
      "application/vnd.jupyter.widget-view+json": {
       "model_id": "3ceae60539474d3d994288af625f89e5",
       "version_major": 2,
       "version_minor": 0
      },
      "text/plain": [
       "Output()"
      ]
     },
     "metadata": {},
     "output_type": "display_data"
    },
    {
     "name": "stdout",
     "output_type": "stream",
     "text": [
      "OLSRobust is running with n_cpu=15, draws=250, folds=10, seed=192735.\n",
      "We're evaluating our out-of-sample predictions with the rmse metric.\n",
      "The estimand of interest is tech. Let's begin the calculations...\n",
      "Total model runs: 62,500 (draws=250, control_specs=1, y_composites=250)\n"
     ]
    },
    {
     "data": {
      "text/html": [
       "<pre style=\"white-space:pre;overflow-x:auto;line-height:normal;font-family:Menlo,'DejaVu Sans Mono',consolas,'Courier New',monospace\"></pre>\n"
      ],
      "text/plain": []
     },
     "metadata": {},
     "output_type": "display_data"
    }
   ],
   "source": [
    "for x in predictors:\n",
    "    model = OLSRobust(\n",
    "        y=y,\n",
    "        x=x+controls,\n",
    "        data=data\n",
    "    )\n",
    "    model.fit(\n",
    "        controls=[],\n",
    "        draws=n_draws,\n",
    "        composite_sample=y_sample,\n",
    "        rescale_x=True,\n",
    "        rescale_z=True,\n",
    "        seed=192735,\n",
    "        kfold=10,\n",
    "        oos_metric=\"rmse\",\n",
    "        n_cpu=15,\n",
    "    )\n",
    "    patched = patch_for_merge(model.get_results())\n",
    "    merged_results = concat_results([merged_results, patched], de_dupe=False)"
   ]
  },
  {
   "cell_type": "code",
   "execution_count": 9,
   "metadata": {},
   "outputs": [
    {
     "data": {
      "image/png": "[encoded data removed]",
      "text/plain": [
       "<Figure size 1200x600 with 4 Axes>"
      ]
     },
     "metadata": {},
     "output_type": "display_data"
    }
   ],
   "source": [
    "with warnings.catch_warnings():\n",
    "    warnings.filterwarnings(\n",
    "        \"ignore\",\n",
    "        message=\"Ignoring `palette` because no `hue` variable has been assigned.\",\n",
    "        category=UserWarning,\n",
    "    )\n",
    "    fig = plt.figure(figsize=(12, 6))\n",
    "    gs = GridSpec(6, 24, wspace=-.25, hspace=5)\n",
    "    ax1 = fig.add_subplot(gs[0:6, 0:14])\n",
    "    ax2 = fig.add_subplot(gs[0:3, 15:24])\n",
    "    ax3 = fig.add_subplot(gs[3:6, 15:24])\n",
    "    plot_curve(results_object=merged_results, loess=True,\n",
    "               ci=1, ax=ax1,\n",
    "               title='a.', highlights=False, inset=False)\n",
    "    plot_hexbin_r2(merged_results, ax2, fig,\n",
    "                   colormap='Spectral_r', title='b.', side='right',\n",
    "                  oddsratio=False)\n",
    "    plot_bdist(results_object=merged_results,\n",
    "               ax=ax3, oddsratio=False,\n",
    "               title='c.', despine_left=True, highlights=False,\n",
    "               legend_bool=False)\n",
    "    \n",
    "    \n",
    "    info_text = (\n",
    "        f'Original Median: –0.005\\n'\n",
    "        f'RobustiPy Median: {merged_results.estimates.stack().median():.3f}\\n'\n",
    "        f'RobustiPy Min: {merged_results.estimates.stack().min():.3f}\\n'\n",
    "        f'RobustiPy Max: {merged_results.estimates.stack().max():.3f}'\n",
    "    )\n",
    "    ax1.text(0.05, 0.95, info_text, transform=ax1.transAxes, va='top', ha='left',\n",
    "             fontsize=10, color='black', bbox=dict(facecolor='white',\n",
    "                                               edgecolor='black', boxstyle='round,pad=1'));\n",
    "    plt.savefig(\"../figures/nhb_2019/nhb_2019.pdf\", bbox_inches='tight')\n",
    "    plt.savefig(\"../figures/nhb_2019/nhb_2019.png\", bbox_inches='tight', dpi=400)\n",
    "    plt.savefig(\"../figures/nhb_2019/nhb_2019.svg\", bbox_inches='tight')"
   ]
  },
  {
   "cell_type": "code",
   "execution_count": 10,
   "metadata": {},
   "outputs": [],
   "source": [
    "merged_results_v2 = pd.DataFrame({\n",
    "    'betas': [b[0][0] for b in merged_results.all_b],\n",
    "    'p_values': [p[0][0] for p in merged_results.all_p],\n",
    "})"
   ]
  },
  {
   "cell_type": "code",
   "execution_count": 11,
   "metadata": {},
   "outputs": [
    {
     "name": "stdout",
     "output_type": "stream",
     "text": [
      "-0.20490024389766473\n",
      "0.11652977072118828\n",
      "-0.017731810352169634\n",
      "-0.18011582979860732\n",
      "0.09984424130555679\n",
      "-0.018409234941896037\n",
      "0.37313278275416717\n",
      "0.7743555454641923\n"
     ]
    }
   ],
   "source": [
    "print(merged_results.estimates.min().min())\n",
    "print(merged_results.estimates.max().max())\n",
    "print(merged_results.estimates.stack().median())\n",
    "print(merged_results_v2['betas'].min())\n",
    "print(merged_results_v2['betas'].max())\n",
    "print(merged_results_v2['betas'].median())\n",
    "print(merged_results.summary_df.av_k_metric.min())\n",
    "print(merged_results.summary_df.av_k_metric.max())"
   ]
  },
  {
   "cell_type": "code",
   "execution_count": 12,
   "metadata": {},
   "outputs": [
    {
     "name": "stdout",
     "output_type": "stream",
     "text": [
      "WARNING: clipping 1695 p=0 and 0 p=1 to [1e-300, 1].\n"
     ]
    },
    {
     "data": {
      "text/plain": [
       "(-611.8053332552817, 1.0)"
      ]
     },
     "execution_count": 12,
     "metadata": {},
     "output_type": "execute_result"
    }
   ],
   "source": [
    "stouffer_method(merged_results_v2['p_values'].to_numpy(),\n",
    "                two_sided=True,\n",
    "                betas=merged_results_v2['betas'].to_numpy())"
   ]
  }
 ],
 "metadata": {
  "kernelspec": {
   "display_name": "Python 3 (ipykernel)",
   "language": "python",
   "name": "python3"
  },
  "language_info": {
   "codemirror_mode": {
    "name": "ipython",
    "version": 3
   },
   "file_extension": ".py",
   "mimetype": "text/x-python",
   "name": "python",
   "nbconvert_exporter": "python",
   "pygments_lexer": "ipython3",
   "version": "3.12.7"
  }
 },
 "nbformat": 4,
 "nbformat_minor": 4
}
