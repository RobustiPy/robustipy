{
 "cells": [
  {
   "cell_type": "markdown",
   "metadata": {},
   "source": [
    "### Empirical Example for RobustiPY (Type 5)!\n",
    "\n",
    "This example is designed to show how RobustiPy can be estimated with multiple dependent variables. In particular, it replicates the wonderful paper by [Amy Orben & Andrew K. Przybylski in Nature Human Behaviour, 2019](https://www.nature.com/articles/s41562-018-0506-1). Data comes from the UK Data Service [here](https://beta.ukdataservice.ac.uk/datacatalogue/series/series?id=2000031). Code comes from Amy's GitHub page, available [here](https://github.com/OrbenAmy/NHB_2019/tree/master).\n"
   ]
  },
  {
   "cell_type": "code",
   "execution_count": 1,
   "metadata": {},
   "outputs": [],
   "source": [
    "import warnings\n",
    "from copy import deepcopy\n",
    "\n",
    "import matplotlib.pyplot as plt\n",
    "import pandas as pd\n",
    "from matplotlib.gridspec import GridSpec\n",
    "\n",
    "from robustipy.figures import plot_bdist, plot_curve, plot_hexbin_r2\n",
    "from robustipy.models import OLSRobust, stouffer_method\n",
    "from robustipy.prototypes import MissingValueWarning\n",
    "from robustipy.utils import concat_results\n",
    "\n",
    "\n",
    "warnings.filterwarnings(\n",
    "    action=\"ignore\",\n",
    "    category=MissingValueWarning,\n",
    "    module=r\"robustipy\\.prototypes\"\n",
    ")\n",
    "\n",
    "n_draws = 400\n",
    "y_sample= 400"
   ]
  },
  {
   "cell_type": "code",
   "execution_count": 2,
   "metadata": {},
   "outputs": [],
   "source": [
    "## lists of predictors\n",
    "predictors = [\n",
    "    [\"fctvho00r\"],\n",
    "    [\"fccomh00r\"],\n",
    "    [\"fccmex00r\"],\n",
    "    [\"fcinth00r\"],\n",
    "    [\"fcsome00r\"],\n",
    "    [\"tech\"]\n",
    "]\n",
    "controls = [\n",
    "    \"edumot\",\n",
    "    \"fd06e00\",\n",
    "    \"clpar\",\n",
    "    \"fcpaab00\",\n",
    "    \"fpwrdscm\",\n",
    "    \"fdacaq00\",\n",
    "    \"fd05s00\",\n",
    "    \"fpclsi00\",\n",
    "    \"fpchti00\",\n",
    "    \"fdkessl\",\n",
    "    \"fdtots00\",\n",
    "    \"foede000\"\n",
    "]"
   ]
  },
  {
   "cell_type": "code",
   "execution_count": 3,
   "metadata": {},
   "outputs": [],
   "source": [
    "data = pd.read_csv('../data/nhb_2019/1_3_prep_mcs_data.csv', low_memory=False)"
   ]
  },
  {
   "cell_type": "code",
   "execution_count": 4,
   "metadata": {},
   "outputs": [],
   "source": [
    "def patch_for_merge(results):\n",
    "    n_specs = results.summary_df.shape[0]\n",
    "    patched = deepcopy(results)\n",
    "    x_label  = \", \".join(x) if isinstance(x, list) else str(x)\n",
    "    y_labels = [f\"composite_y_{i+1}\" for i in range(n_specs)]\n",
    "    if len(patched.all_b) == 1:\n",
    "        patched.all_b = patched.all_b * n_specs\n",
    "    if len(patched.all_p) == 1:\n",
    "        patched.all_p = patched.all_p * n_specs\n",
    "    patched.__dict__.pop(\"_y_name\", None)\n",
    "    patched.__dict__.pop(\"_x_name\", None)\n",
    "    patched.y_name = y_labels\n",
    "    patched.x_name = [x_label] * n_specs\n",
    "    patched.all_predictors = [x_label] * n_specs\n",
    "    patched.specs_names = pd.Series(list(range(n_specs)))\n",
    "    return patched"
   ]
  },
  {
   "cell_type": "markdown",
   "metadata": {},
   "source": [
    "## No-Controls, participant"
   ]
  },
  {
   "cell_type": "code",
   "execution_count": 5,
   "metadata": {},
   "outputs": [
    {
     "name": "stdout",
     "output_type": "stream",
     "text": [
      "Calculating Composite Ys\n"
     ]
    },
    {
     "data": {
      "application/vnd.jupyter.widget-view+json": {
       "model_id": "47d014ae09044357b86e20b0031ffc8f",
       "version_major": 2,
       "version_minor": 0
      },
      "text/plain": [
       "Output()"
      ]
     },
     "metadata": {},
     "output_type": "display_data"
    },
    {
     "name": "stdout",
     "output_type": "stream",
     "text": [
      "OLSRobust is running with n_cpu=20, draws=400, folds=10, seed=192735.\n",
      "We're evaluating our out-of-sample predictions with the rmse metric.\n",
      "The estimand of interest is fctvho00r. Let's begin the calculations...\n"
     ]
    },
    {
     "data": {
      "text/html": [
       "<pre style=\"white-space:pre;overflow-x:auto;line-height:normal;font-family:Menlo,'DejaVu Sans Mono',consolas,'Courier New',monospace\"></pre>\n"
      ],
      "text/plain": []
     },
     "metadata": {},
     "output_type": "display_data"
    },
    {
     "name": "stdout",
     "output_type": "stream",
     "text": [
      "Calculating Composite Ys\n"
     ]
    },
    {
     "data": {
      "application/vnd.jupyter.widget-view+json": {
       "model_id": "bd19cdb8f0ca4d37978535664e284b92",
       "version_major": 2,
       "version_minor": 0
      },
      "text/plain": [
       "Output()"
      ]
     },
     "metadata": {},
     "output_type": "display_data"
    },
    {
     "name": "stdout",
     "output_type": "stream",
     "text": [
      "OLSRobust is running with n_cpu=20, draws=400, folds=10, seed=192735.\n",
      "We're evaluating our out-of-sample predictions with the rmse metric.\n",
      "The estimand of interest is fccomh00r. Let's begin the calculations...\n"
     ]
    },
    {
     "data": {
      "text/html": [
       "<pre style=\"white-space:pre;overflow-x:auto;line-height:normal;font-family:Menlo,'DejaVu Sans Mono',consolas,'Courier New',monospace\"></pre>\n"
      ],
      "text/plain": []
     },
     "metadata": {},
     "output_type": "display_data"
    },
    {
     "name": "stdout",
     "output_type": "stream",
     "text": [
      "Calculating Composite Ys\n"
     ]
    },
    {
     "data": {
      "application/vnd.jupyter.widget-view+json": {
       "model_id": "4d986a820349464b8248e441b79ac8cb",
       "version_major": 2,
       "version_minor": 0
      },
      "text/plain": [
       "Output()"
      ]
     },
     "metadata": {},
     "output_type": "display_data"
    },
    {
     "name": "stdout",
     "output_type": "stream",
     "text": [
      "OLSRobust is running with n_cpu=20, draws=400, folds=10, seed=192735.\n",
      "We're evaluating our out-of-sample predictions with the rmse metric.\n",
      "The estimand of interest is fccmex00r. Let's begin the calculations...\n"
     ]
    },
    {
     "data": {
      "text/html": [
       "<pre style=\"white-space:pre;overflow-x:auto;line-height:normal;font-family:Menlo,'DejaVu Sans Mono',consolas,'Courier New',monospace\"></pre>\n"
      ],
      "text/plain": []
     },
     "metadata": {},
     "output_type": "display_data"
    },
    {
     "name": "stdout",
     "output_type": "stream",
     "text": [
      "Calculating Composite Ys\n"
     ]
    },
    {
     "data": {
      "application/vnd.jupyter.widget-view+json": {
       "model_id": "5b6baa1113454f2680ddc69f0f831236",
       "version_major": 2,
       "version_minor": 0
      },
      "text/plain": [
       "Output()"
      ]
     },
     "metadata": {},
     "output_type": "display_data"
    },
    {
     "name": "stdout",
     "output_type": "stream",
     "text": [
      "OLSRobust is running with n_cpu=20, draws=400, folds=10, seed=192735.\n",
      "We're evaluating our out-of-sample predictions with the rmse metric.\n",
      "The estimand of interest is fcinth00r. Let's begin the calculations...\n"
     ]
    },
    {
     "data": {
      "text/html": [
       "<pre style=\"white-space:pre;overflow-x:auto;line-height:normal;font-family:Menlo,'DejaVu Sans Mono',consolas,'Courier New',monospace\"></pre>\n"
      ],
      "text/plain": []
     },
     "metadata": {},
     "output_type": "display_data"
    },
    {
     "name": "stdout",
     "output_type": "stream",
     "text": [
      "Calculating Composite Ys\n"
     ]
    },
    {
     "data": {
      "application/vnd.jupyter.widget-view+json": {
       "model_id": "22f668ad66824fb481407c5703ab2fbd",
       "version_major": 2,
       "version_minor": 0
      },
      "text/plain": [
       "Output()"
      ]
     },
     "metadata": {},
     "output_type": "display_data"
    },
    {
     "name": "stdout",
     "output_type": "stream",
     "text": [
      "OLSRobust is running with n_cpu=20, draws=400, folds=10, seed=192735.\n",
      "We're evaluating our out-of-sample predictions with the rmse metric.\n",
      "The estimand of interest is fcsome00r. Let's begin the calculations...\n"
     ]
    },
    {
     "data": {
      "text/html": [
       "<pre style=\"white-space:pre;overflow-x:auto;line-height:normal;font-family:Menlo,'DejaVu Sans Mono',consolas,'Courier New',monospace\"></pre>\n"
      ],
      "text/plain": []
     },
     "metadata": {},
     "output_type": "display_data"
    },
    {
     "name": "stdout",
     "output_type": "stream",
     "text": [
      "Calculating Composite Ys\n"
     ]
    },
    {
     "data": {
      "application/vnd.jupyter.widget-view+json": {
       "model_id": "5cfe15d3f0474af08988dca35f4b4735",
       "version_major": 2,
       "version_minor": 0
      },
      "text/plain": [
       "Output()"
      ]
     },
     "metadata": {},
     "output_type": "display_data"
    },
    {
     "name": "stdout",
     "output_type": "stream",
     "text": [
      "OLSRobust is running with n_cpu=20, draws=400, folds=10, seed=192735.\n",
      "We're evaluating our out-of-sample predictions with the rmse metric.\n",
      "The estimand of interest is tech. Let's begin the calculations...\n"
     ]
    },
    {
     "data": {
      "text/html": [
       "<pre style=\"white-space:pre;overflow-x:auto;line-height:normal;font-family:Menlo,'DejaVu Sans Mono',consolas,'Courier New',monospace\"></pre>\n"
      ],
      "text/plain": []
     },
     "metadata": {},
     "output_type": "display_data"
    }
   ],
   "source": [
    "y = [\n",
    "    \"fcmdsa00r\", \"fcmdsb00r\", \"fcmdsc00r\", \"fcmdsd00r\", \"fcmdse00r\", \"fcmdsf00r\",\n",
    "    \"fcmdsg00r\", \"fcmdsh00r\", \"fcmdsi00r\", \"fcmdsj00r\", \"fcmdsk00r\", \"fcmdsl00r\",\n",
    "    \"fcmdsm00r\", \"fcsati00r\", \"fcgdql00r\", \"fcdowl00r\", \"fcvalu00r\", \"fcgdsf00r\",\n",
    "    \"fcscwk00r\", \"fcwylk00r\", \"fcfmly00r\", \"fcfrns00r\", \"fcschl00r\", \"fclife00r\"\n",
    "]\n",
    "merged_results = None\n",
    "for x in predictors:\n",
    "    model = OLSRobust(y=y, x=x, data=data)\n",
    "    model.fit(\n",
    "        controls=[],\n",
    "        draws=n_draws,\n",
    "        composite_sample=y_sample,\n",
    "        rescale_x=True,\n",
    "        rescale_z=True,\n",
    "        kfold=10,\n",
    "        oos_metric=\"rmse\",\n",
    "        seed=192735,\n",
    "        n_cpu=20,\n",
    "    )\n",
    "    patched = patch_for_merge(model.get_results())\n",
    "    if merged_results is None:\n",
    "        merged_results = concat_results([patched], de_dupe=False)\n",
    "    else:\n",
    "        merged_results = concat_results([merged_results, patched], de_dupe=False)"
   ]
  },
  {
   "cell_type": "markdown",
   "metadata": {},
   "source": [
    "## Control, Participant"
   ]
  },
  {
   "cell_type": "code",
   "execution_count": 6,
   "metadata": {},
   "outputs": [
    {
     "name": "stdout",
     "output_type": "stream",
     "text": [
      "Calculating Composite Ys\n"
     ]
    },
    {
     "data": {
      "application/vnd.jupyter.widget-view+json": {
       "model_id": "67816405cfc64093909560da8ab9c001",
       "version_major": 2,
       "version_minor": 0
      },
      "text/plain": [
       "Output()"
      ]
     },
     "metadata": {},
     "output_type": "display_data"
    },
    {
     "name": "stdout",
     "output_type": "stream",
     "text": [
      "OLSRobust is running with n_cpu=20, draws=400, folds=10, seed=192735.\n",
      "We're evaluating our out-of-sample predictions with the rmse metric.\n",
      "The estimand of interest is fctvho00r. Let's begin the calculations...\n"
     ]
    },
    {
     "data": {
      "text/html": [
       "<pre style=\"white-space:pre;overflow-x:auto;line-height:normal;font-family:Menlo,'DejaVu Sans Mono',consolas,'Courier New',monospace\"></pre>\n"
      ],
      "text/plain": []
     },
     "metadata": {},
     "output_type": "display_data"
    },
    {
     "name": "stdout",
     "output_type": "stream",
     "text": [
      "Calculating Composite Ys\n"
     ]
    },
    {
     "data": {
      "application/vnd.jupyter.widget-view+json": {
       "model_id": "342094567a6c4383b0942e86058f9fa7",
       "version_major": 2,
       "version_minor": 0
      },
      "text/plain": [
       "Output()"
      ]
     },
     "metadata": {},
     "output_type": "display_data"
    },
    {
     "name": "stdout",
     "output_type": "stream",
     "text": [
      "OLSRobust is running with n_cpu=20, draws=400, folds=10, seed=192735.\n",
      "We're evaluating our out-of-sample predictions with the rmse metric.\n",
      "The estimand of interest is fccomh00r. Let's begin the calculations...\n"
     ]
    },
    {
     "data": {
      "text/html": [
       "<pre style=\"white-space:pre;overflow-x:auto;line-height:normal;font-family:Menlo,'DejaVu Sans Mono',consolas,'Courier New',monospace\"></pre>\n"
      ],
      "text/plain": []
     },
     "metadata": {},
     "output_type": "display_data"
    },
    {
     "name": "stdout",
     "output_type": "stream",
     "text": [
      "Calculating Composite Ys\n"
     ]
    },
    {
     "data": {
      "application/vnd.jupyter.widget-view+json": {
       "model_id": "a62f2089dbd5400ba01442ce41ea9646",
       "version_major": 2,
       "version_minor": 0
      },
      "text/plain": [
       "Output()"
      ]
     },
     "metadata": {},
     "output_type": "display_data"
    },
    {
     "name": "stdout",
     "output_type": "stream",
     "text": [
      "OLSRobust is running with n_cpu=20, draws=400, folds=10, seed=192735.\n",
      "We're evaluating our out-of-sample predictions with the rmse metric.\n",
      "The estimand of interest is fccmex00r. Let's begin the calculations...\n"
     ]
    },
    {
     "data": {
      "text/html": [
       "<pre style=\"white-space:pre;overflow-x:auto;line-height:normal;font-family:Menlo,'DejaVu Sans Mono',consolas,'Courier New',monospace\"></pre>\n"
      ],
      "text/plain": []
     },
     "metadata": {},
     "output_type": "display_data"
    },
    {
     "name": "stdout",
     "output_type": "stream",
     "text": [
      "Calculating Composite Ys\n"
     ]
    },
    {
     "data": {
      "application/vnd.jupyter.widget-view+json": {
       "model_id": "e59d2d3146bd4effabc15fa2421658a5",
       "version_major": 2,
       "version_minor": 0
      },
      "text/plain": [
       "Output()"
      ]
     },
     "metadata": {},
     "output_type": "display_data"
    },
    {
     "name": "stdout",
     "output_type": "stream",
     "text": [
      "OLSRobust is running with n_cpu=20, draws=400, folds=10, seed=192735.\n",
      "We're evaluating our out-of-sample predictions with the rmse metric.\n",
      "The estimand of interest is fcinth00r. Let's begin the calculations...\n"
     ]
    },
    {
     "data": {
      "text/html": [
       "<pre style=\"white-space:pre;overflow-x:auto;line-height:normal;font-family:Menlo,'DejaVu Sans Mono',consolas,'Courier New',monospace\"></pre>\n"
      ],
      "text/plain": []
     },
     "metadata": {},
     "output_type": "display_data"
    },
    {
     "name": "stdout",
     "output_type": "stream",
     "text": [
      "Calculating Composite Ys\n"
     ]
    },
    {
     "data": {
      "application/vnd.jupyter.widget-view+json": {
       "model_id": "d6d1166ce0964bf19ece2375d39abf45",
       "version_major": 2,
       "version_minor": 0
      },
      "text/plain": [
       "Output()"
      ]
     },
     "metadata": {},
     "output_type": "display_data"
    },
    {
     "name": "stdout",
     "output_type": "stream",
     "text": [
      "OLSRobust is running with n_cpu=20, draws=400, folds=10, seed=192735.\n",
      "We're evaluating our out-of-sample predictions with the rmse metric.\n",
      "The estimand of interest is fcsome00r. Let's begin the calculations...\n"
     ]
    },
    {
     "data": {
      "text/html": [
       "<pre style=\"white-space:pre;overflow-x:auto;line-height:normal;font-family:Menlo,'DejaVu Sans Mono',consolas,'Courier New',monospace\"></pre>\n"
      ],
      "text/plain": []
     },
     "metadata": {},
     "output_type": "display_data"
    },
    {
     "name": "stdout",
     "output_type": "stream",
     "text": [
      "Calculating Composite Ys\n"
     ]
    },
    {
     "data": {
      "application/vnd.jupyter.widget-view+json": {
       "model_id": "e7ac89edefec4c8db7dc2016e337d76c",
       "version_major": 2,
       "version_minor": 0
      },
      "text/plain": [
       "Output()"
      ]
     },
     "metadata": {},
     "output_type": "display_data"
    },
    {
     "name": "stdout",
     "output_type": "stream",
     "text": [
      "OLSRobust is running with n_cpu=20, draws=400, folds=10, seed=192735.\n",
      "We're evaluating our out-of-sample predictions with the rmse metric.\n",
      "The estimand of interest is tech. Let's begin the calculations...\n"
     ]
    },
    {
     "data": {
      "text/html": [
       "<pre style=\"white-space:pre;overflow-x:auto;line-height:normal;font-family:Menlo,'DejaVu Sans Mono',consolas,'Courier New',monospace\"></pre>\n"
      ],
      "text/plain": []
     },
     "metadata": {},
     "output_type": "display_data"
    }
   ],
   "source": [
    "for x in predictors:\n",
    "    model = OLSRobust(\n",
    "        y=y,\n",
    "        x=x + controls,\n",
    "        data=data\n",
    "    )\n",
    "    model.fit(\n",
    "        controls=[],\n",
    "        draws=n_draws,\n",
    "        composite_sample=y_sample,\n",
    "        rescale_x=True,\n",
    "        rescale_z=True,\n",
    "        seed=192735,\n",
    "        kfold=10,\n",
    "        oos_metric=\"rmse\",\n",
    "        n_cpu=20,\n",
    "    )\n",
    "    patched = patch_for_merge(model.get_results())\n",
    "    merged_results = concat_results([merged_results, patched], de_dupe=False)"
   ]
  },
  {
   "cell_type": "markdown",
   "metadata": {},
   "source": [
    "## No Controls, Primary carers"
   ]
  },
  {
   "cell_type": "code",
   "execution_count": 7,
   "metadata": {},
   "outputs": [
    {
     "name": "stdout",
     "output_type": "stream",
     "text": [
      "Calculating Composite Ys\n"
     ]
    },
    {
     "data": {
      "application/vnd.jupyter.widget-view+json": {
       "model_id": "76fcf5b891db4124986f84311da92cf7",
       "version_major": 2,
       "version_minor": 0
      },
      "text/plain": [
       "Output()"
      ]
     },
     "metadata": {},
     "output_type": "display_data"
    },
    {
     "name": "stdout",
     "output_type": "stream",
     "text": [
      "OLSRobust is running with n_cpu=20, draws=400, folds=10, seed=192735.\n",
      "We're evaluating our out-of-sample predictions with the rmse metric.\n",
      "The estimand of interest is fctvho00r. Let's begin the calculations...\n"
     ]
    },
    {
     "data": {
      "text/html": [
       "<pre style=\"white-space:pre;overflow-x:auto;line-height:normal;font-family:Menlo,'DejaVu Sans Mono',consolas,'Courier New',monospace\"></pre>\n"
      ],
      "text/plain": []
     },
     "metadata": {},
     "output_type": "display_data"
    },
    {
     "name": "stdout",
     "output_type": "stream",
     "text": [
      "Calculating Composite Ys\n"
     ]
    },
    {
     "data": {
      "application/vnd.jupyter.widget-view+json": {
       "model_id": "53e4b1539eab4e8a9b9ca838c5c3a3bc",
       "version_major": 2,
       "version_minor": 0
      },
      "text/plain": [
       "Output()"
      ]
     },
     "metadata": {},
     "output_type": "display_data"
    },
    {
     "name": "stdout",
     "output_type": "stream",
     "text": [
      "OLSRobust is running with n_cpu=20, draws=400, folds=10, seed=192735.\n",
      "We're evaluating our out-of-sample predictions with the rmse metric.\n",
      "The estimand of interest is fccomh00r. Let's begin the calculations...\n"
     ]
    },
    {
     "data": {
      "text/html": [
       "<pre style=\"white-space:pre;overflow-x:auto;line-height:normal;font-family:Menlo,'DejaVu Sans Mono',consolas,'Courier New',monospace\"></pre>\n"
      ],
      "text/plain": []
     },
     "metadata": {},
     "output_type": "display_data"
    },
    {
     "name": "stdout",
     "output_type": "stream",
     "text": [
      "Calculating Composite Ys\n"
     ]
    },
    {
     "data": {
      "application/vnd.jupyter.widget-view+json": {
       "model_id": "de87fa90be9940748850bd8810b50125",
       "version_major": 2,
       "version_minor": 0
      },
      "text/plain": [
       "Output()"
      ]
     },
     "metadata": {},
     "output_type": "display_data"
    },
    {
     "name": "stdout",
     "output_type": "stream",
     "text": [
      "OLSRobust is running with n_cpu=20, draws=400, folds=10, seed=192735.\n",
      "We're evaluating our out-of-sample predictions with the rmse metric.\n",
      "The estimand of interest is fccmex00r. Let's begin the calculations...\n"
     ]
    },
    {
     "data": {
      "text/html": [
       "<pre style=\"white-space:pre;overflow-x:auto;line-height:normal;font-family:Menlo,'DejaVu Sans Mono',consolas,'Courier New',monospace\"></pre>\n"
      ],
      "text/plain": []
     },
     "metadata": {},
     "output_type": "display_data"
    },
    {
     "name": "stdout",
     "output_type": "stream",
     "text": [
      "Calculating Composite Ys\n"
     ]
    },
    {
     "data": {
      "application/vnd.jupyter.widget-view+json": {
       "model_id": "700a3b4565fa4330984ef84a7d9a6631",
       "version_major": 2,
       "version_minor": 0
      },
      "text/plain": [
       "Output()"
      ]
     },
     "metadata": {},
     "output_type": "display_data"
    },
    {
     "name": "stdout",
     "output_type": "stream",
     "text": [
      "OLSRobust is running with n_cpu=20, draws=400, folds=10, seed=192735.\n",
      "We're evaluating our out-of-sample predictions with the rmse metric.\n",
      "The estimand of interest is fcinth00r. Let's begin the calculations...\n"
     ]
    },
    {
     "data": {
      "text/html": [
       "<pre style=\"white-space:pre;overflow-x:auto;line-height:normal;font-family:Menlo,'DejaVu Sans Mono',consolas,'Courier New',monospace\"></pre>\n"
      ],
      "text/plain": []
     },
     "metadata": {},
     "output_type": "display_data"
    },
    {
     "name": "stdout",
     "output_type": "stream",
     "text": [
      "Calculating Composite Ys\n"
     ]
    },
    {
     "data": {
      "application/vnd.jupyter.widget-view+json": {
       "model_id": "7b37f2a9c0284579a92d1af429ec870a",
       "version_major": 2,
       "version_minor": 0
      },
      "text/plain": [
       "Output()"
      ]
     },
     "metadata": {},
     "output_type": "display_data"
    },
    {
     "name": "stdout",
     "output_type": "stream",
     "text": [
      "OLSRobust is running with n_cpu=20, draws=400, folds=10, seed=192735.\n",
      "We're evaluating our out-of-sample predictions with the rmse metric.\n",
      "The estimand of interest is fcsome00r. Let's begin the calculations...\n"
     ]
    },
    {
     "data": {
      "text/html": [
       "<pre style=\"white-space:pre;overflow-x:auto;line-height:normal;font-family:Menlo,'DejaVu Sans Mono',consolas,'Courier New',monospace\"></pre>\n"
      ],
      "text/plain": []
     },
     "metadata": {},
     "output_type": "display_data"
    },
    {
     "name": "stdout",
     "output_type": "stream",
     "text": [
      "Calculating Composite Ys\n"
     ]
    },
    {
     "data": {
      "application/vnd.jupyter.widget-view+json": {
       "model_id": "f42eaa4d114d4d328c8327631dd1da3b",
       "version_major": 2,
       "version_minor": 0
      },
      "text/plain": [
       "Output()"
      ]
     },
     "metadata": {},
     "output_type": "display_data"
    },
    {
     "name": "stdout",
     "output_type": "stream",
     "text": [
      "OLSRobust is running with n_cpu=20, draws=400, folds=10, seed=192735.\n",
      "We're evaluating our out-of-sample predictions with the rmse metric.\n",
      "The estimand of interest is tech. Let's begin the calculations...\n"
     ]
    },
    {
     "data": {
      "text/html": [
       "<pre style=\"white-space:pre;overflow-x:auto;line-height:normal;font-family:Menlo,'DejaVu Sans Mono',consolas,'Courier New',monospace\"></pre>\n"
      ],
      "text/plain": []
     },
     "metadata": {},
     "output_type": "display_data"
    }
   ],
   "source": [
    "y = [\n",
    "    \"fpsdpf00\", \"fpsdro00\", \"fpsdhs00\", \"fpsdsr00\", \"fpsdtt00\", \"fpsdsp00\",\n",
    "    \"fpsdor00\", \"fpsdmw00\", \"fpsdhu00\", \"fpsdfs00\", \"fpsdgf00\", \"fpsdfb00\",\n",
    "    \"fpsdud00\", \"fpsdlc00\", \"fpsddc00\", \"fpsdnc00\", \"fpsdky00\", \"fpsdoa00\",\n",
    "    \"fpsdpb00\", \"fpsdvh00\", \"fpsdst00\", \"fpsdcs00\", \"fpsdgb00\", \"fpsdfe00\",\n",
    "    \"fpsdte00\",\n",
    "]\n",
    "\n",
    "for x in predictors:\n",
    "    model = OLSRobust(\n",
    "        y=y,\n",
    "        x=x,\n",
    "        data=data\n",
    "    )\n",
    "    model.fit(\n",
    "        controls=[],\n",
    "        draws=n_draws,\n",
    "        composite_sample=y_sample,\n",
    "        rescale_x=True,\n",
    "        rescale_z=True,\n",
    "        seed=192735,\n",
    "        kfold=10,\n",
    "        oos_metric=\"rmse\",\n",
    "        n_cpu=20,\n",
    "    )\n",
    "    patched = patch_for_merge(model.get_results())\n",
    "    merged_results = concat_results([merged_results, patched], de_dupe=False)"
   ]
  },
  {
   "cell_type": "markdown",
   "metadata": {},
   "source": [
    "## Controls, Primary Carers"
   ]
  },
  {
   "cell_type": "code",
   "execution_count": 8,
   "metadata": {},
   "outputs": [
    {
     "name": "stdout",
     "output_type": "stream",
     "text": [
      "Calculating Composite Ys\n"
     ]
    },
    {
     "data": {
      "application/vnd.jupyter.widget-view+json": {
       "model_id": "5f897520241e4275ad32c97214a16430",
       "version_major": 2,
       "version_minor": 0
      },
      "text/plain": [
       "Output()"
      ]
     },
     "metadata": {},
     "output_type": "display_data"
    },
    {
     "data": {
      "text/html": [
       "<pre style=\"white-space:pre;overflow-x:auto;line-height:normal;font-family:Menlo,'DejaVu Sans Mono',consolas,'Courier New',monospace\"></pre>\n"
      ],
      "text/plain": []
     },
     "metadata": {},
     "output_type": "display_data"
    },
    {
     "name": "stdout",
     "output_type": "stream",
     "text": [
      "Calculating Composite Ys\n"
     ]
    },
    {
     "data": {
      "application/vnd.jupyter.widget-view+json": {
       "model_id": "b310884d597842a0a873d6d556a2b088",
       "version_major": 2,
       "version_minor": 0
      },
      "text/plain": [
       "Output()"
      ]
     },
     "metadata": {},
     "output_type": "display_data"
    },
    {
     "name": "stdout",
     "output_type": "stream",
     "text": [
      "OLSRobust is running with n_cpu=20, draws=400, folds=10, seed=192735.\n",
      "We're evaluating our out-of-sample predictions with the rmse metric.\n",
      "The estimand of interest is fccomh00r. Let's begin the calculations...\n"
     ]
    },
    {
     "data": {
      "text/html": [
       "<pre style=\"white-space:pre;overflow-x:auto;line-height:normal;font-family:Menlo,'DejaVu Sans Mono',consolas,'Courier New',monospace\"></pre>\n"
      ],
      "text/plain": []
     },
     "metadata": {},
     "output_type": "display_data"
    },
    {
     "name": "stdout",
     "output_type": "stream",
     "text": [
      "Calculating Composite Ys\n"
     ]
    },
    {
     "data": {
      "application/vnd.jupyter.widget-view+json": {
       "model_id": "030622f8521e43228cbafaa8639f026d",
       "version_major": 2,
       "version_minor": 0
      },
      "text/plain": [
       "Output()"
      ]
     },
     "metadata": {},
     "output_type": "display_data"
    },
    {
     "name": "stdout",
     "output_type": "stream",
     "text": [
      "OLSRobust is running with n_cpu=20, draws=400, folds=10, seed=192735.\n",
      "We're evaluating our out-of-sample predictions with the rmse metric.\n",
      "The estimand of interest is fccmex00r. Let's begin the calculations...\n"
     ]
    },
    {
     "data": {
      "text/html": [
       "<pre style=\"white-space:pre;overflow-x:auto;line-height:normal;font-family:Menlo,'DejaVu Sans Mono',consolas,'Courier New',monospace\"></pre>\n"
      ],
      "text/plain": []
     },
     "metadata": {},
     "output_type": "display_data"
    },
    {
     "name": "stdout",
     "output_type": "stream",
     "text": [
      "Calculating Composite Ys\n"
     ]
    },
    {
     "data": {
      "application/vnd.jupyter.widget-view+json": {
       "model_id": "3c3fd27f3f754f06adbcbe05e4caf247",
       "version_major": 2,
       "version_minor": 0
      },
      "text/plain": [
       "Output()"
      ]
     },
     "metadata": {},
     "output_type": "display_data"
    },
    {
     "name": "stdout",
     "output_type": "stream",
     "text": [
      "OLSRobust is running with n_cpu=20, draws=400, folds=10, seed=192735.\n",
      "We're evaluating our out-of-sample predictions with the rmse metric.\n",
      "The estimand of interest is fcinth00r. Let's begin the calculations...\n"
     ]
    },
    {
     "data": {
      "text/html": [
       "<pre style=\"white-space:pre;overflow-x:auto;line-height:normal;font-family:Menlo,'DejaVu Sans Mono',consolas,'Courier New',monospace\"></pre>\n"
      ],
      "text/plain": []
     },
     "metadata": {},
     "output_type": "display_data"
    },
    {
     "name": "stdout",
     "output_type": "stream",
     "text": [
      "Calculating Composite Ys\n"
     ]
    },
    {
     "data": {
      "application/vnd.jupyter.widget-view+json": {
       "model_id": "70f175290d9743deb9b1cb403a16d46c",
       "version_major": 2,
       "version_minor": 0
      },
      "text/plain": [
       "Output()"
      ]
     },
     "metadata": {},
     "output_type": "display_data"
    },
    {
     "name": "stdout",
     "output_type": "stream",
     "text": [
      "OLSRobust is running with n_cpu=20, draws=400, folds=10, seed=192735.\n",
      "We're evaluating our out-of-sample predictions with the rmse metric.\n",
      "The estimand of interest is fcsome00r. Let's begin the calculations...\n"
     ]
    },
    {
     "data": {
      "text/html": [
       "<pre style=\"white-space:pre;overflow-x:auto;line-height:normal;font-family:Menlo,'DejaVu Sans Mono',consolas,'Courier New',monospace\"></pre>\n"
      ],
      "text/plain": []
     },
     "metadata": {},
     "output_type": "display_data"
    },
    {
     "name": "stdout",
     "output_type": "stream",
     "text": [
      "Calculating Composite Ys\n"
     ]
    },
    {
     "data": {
      "application/vnd.jupyter.widget-view+json": {
       "model_id": "77a3c1b0555a44718aa615fc3dfea905",
       "version_major": 2,
       "version_minor": 0
      },
      "text/plain": [
       "Output()"
      ]
     },
     "metadata": {},
     "output_type": "display_data"
    },
    {
     "name": "stdout",
     "output_type": "stream",
     "text": [
      "OLSRobust is running with n_cpu=20, draws=400, folds=10, seed=192735.\n",
      "We're evaluating our out-of-sample predictions with the rmse metric.\n",
      "The estimand of interest is tech. Let's begin the calculations...\n"
     ]
    },
    {
     "data": {
      "text/html": [
       "<pre style=\"white-space:pre;overflow-x:auto;line-height:normal;font-family:Menlo,'DejaVu Sans Mono',consolas,'Courier New',monospace\"></pre>\n"
      ],
      "text/plain": []
     },
     "metadata": {},
     "output_type": "display_data"
    }
   ],
   "source": [
    "for x in predictors:\n",
    "    model = OLSRobust(\n",
    "        y=y,\n",
    "        x=x+controls,\n",
    "        data=data\n",
    "    )\n",
    "    model.fit(\n",
    "        controls=[],\n",
    "        draws=n_draws,\n",
    "        composite_sample=y_sample,\n",
    "        rescale_x=True,\n",
    "        rescale_z=True,\n",
    "        seed=192735,\n",
    "        kfold=10,\n",
    "        oos_metric=\"rmse\",\n",
    "        n_cpu=20,\n",
    "    )\n",
    "    patched = patch_for_merge(model.get_results())\n",
    "    merged_results = concat_results([merged_results, patched], de_dupe=False)"
   ]
  },
  {
   "cell_type": "code",
   "execution_count": 11,
   "metadata": {},
   "outputs": [
    {
     "name": "stderr",
     "output_type": "stream",
     "text": [
      "/home/jinx/anaconda3/lib/python3.12/site-packages/robustipy/figures.py:929: UserWarning: Ignoring `palette` because no `hue` variable has been assigned.\n",
      "  sns.kdeplot(\n"
     ]
    },
    {
     "data": {
      "image/png": "[encoded data removed]",
      "text/plain": [
       "<Figure size 1200x600 with 4 Axes>"
      ]
     },
     "metadata": {},
     "output_type": "display_data"
    }
   ],
   "source": [
    "with warnings.catch_warnings():\n",
    "    warnings.filterwarnings(\n",
    "        \"ignore\",\n",
    "        message=\"Ignoring `palette` because no `hue` variable has been assigned.\",\n",
    "        category=UserWarning,\n",
    "    )\n",
    "fig = plt.figure(figsize=(12, 6))\n",
    "gs = GridSpec(6, 24, wspace=-.25, hspace=5)\n",
    "ax1 = fig.add_subplot(gs[0:6, 0:14])\n",
    "ax2 = fig.add_subplot(gs[0:3, 15:24])\n",
    "ax3 = fig.add_subplot(gs[3:6, 15:24])\n",
    "plot_curve(results_object=merged_results, loess=True,\n",
    "           ci=1, ax=ax1,\n",
    "           title='a.', highlights=False, inset=False)\n",
    "plot_hexbin_r2(merged_results, ax2, fig,\n",
    "               colormap='Spectral_r', title='b.', side='right',\n",
    "              oddsratio=False)\n",
    "plot_bdist(results_object=merged_results,\n",
    "           ax=ax3, oddsratio=False,\n",
    "           title='c.', despine_left=True, highlights=False,\n",
    "           legend_bool=False)\n",
    "\n",
    "\n",
    "info_text = (\n",
    "    f'Original Median: –0.005\\n'\n",
    "    f'RobustiPy Median: {merged_results.estimates.stack().median():.3f}\\n'\n",
    "    f'RobustiPy Min: {merged_results.estimates.stack().min():.3f}\\n'\n",
    "    f'RobustiPy Max: {merged_results.estimates.stack().max():.3f}'\n",
    ")\n",
    "ax1.text(0.05, 0.95, info_text, transform=ax1.transAxes, va='top', ha='left',\n",
    "         fontsize=10, color='black', bbox=dict(facecolor='white',\n",
    "                                           edgecolor='black', boxstyle='round,pad=1'));\n",
    "plt.savefig(\"../figures/nhb_2019/nhb_2019.pdf\", bbox_inches='tight')\n",
    "plt.savefig(\"../figures/nhb_2019/nhb_2019.png\", bbox_inches='tight', dpi=400)\n",
    "plt.savefig(\"../figures/nhb_2019/nhb_2019.svg\", bbox_inches='tight')"
   ]
  },
  {
   "cell_type": "code",
   "execution_count": 12,
   "metadata": {},
   "outputs": [],
   "source": [
    "merged_results_v2 = pd.DataFrame({\n",
    "    'betas': [b[0][0] for b in merged_results.all_b],\n",
    "    'p_values': [p[0][0] for p in merged_results.all_p],\n",
    "})"
   ]
  },
  {
   "cell_type": "code",
   "execution_count": 13,
   "metadata": {},
   "outputs": [
    {
     "name": "stdout",
     "output_type": "stream",
     "text": [
      "-0.2041342159517579\n",
      "0.12039892098668402\n",
      "-0.01770233484483366\n",
      "-0.18095648486355317\n",
      "0.09984424130555679\n",
      "-0.018271108475041088\n",
      "0.37667643820353086\n",
      "0.7743555454641923\n",
      "(472.7185790437354, 0.0)\n"
     ]
    }
   ],
   "source": [
    "print(merged_results.estimates.min().min())\n",
    "print(merged_results.estimates.max().max())\n",
    "print(merged_results.estimates.stack().median())\n",
    "print(merged_results_v2['betas'].min())\n",
    "print(merged_results_v2['betas'].max())\n",
    "print(merged_results_v2['betas'].median())\n",
    "print(merged_results.summary_df.av_k_metric.min())\n",
    "print(merged_results.summary_df.av_k_metric.max())\n",
    "print(stouffer_method(merged_results_v2['p_values']))"
   ]
  }
 ],
 "metadata": {
  "kernelspec": {
   "display_name": "Python 3 (ipykernel)",
   "language": "python",
   "name": "python3"
  },
  "language_info": {
   "codemirror_mode": {
    "name": "ipython",
    "version": 3
   },
   "file_extension": ".py",
   "mimetype": "text/x-python",
   "name": "python",
   "nbconvert_exporter": "python",
   "pygments_lexer": "ipython3",
   "version": "3.12.7"
  }
 },
 "nbformat": 4,
 "nbformat_minor": 4
}
