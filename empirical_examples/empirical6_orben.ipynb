{
 "cells": [
  {
   "cell_type": "code",
   "execution_count": 10,
   "metadata": {},
   "outputs": [],
   "source": [
    "import numpy as np\n",
    "import pandas as pd\n",
    "import matplotlib.pyplot as plt\n",
    "from robustipy.models import OLSRobust\n",
    "from robustipy.utils import get_colormap_colors\n",
    "from matplotlib.lines import Line2D\n",
    "from matplotlib.patches import Patch\n",
    "import seaborn as sns\n",
    "\n",
    "n_draws = 50"
   ]
  },
  {
   "cell_type": "code",
   "execution_count": 11,
   "metadata": {},
   "outputs": [],
   "source": [
    "def figure_plotter(results_1,\n",
    "                   results_2,\n",
    "                   results_3,\n",
    "                   results_4,\n",
    "                   fig_name):\n",
    "\n",
    "    colors = get_colormap_colors('Spectral_r', 5, brightness_threshold=0.8)\n",
    "    plt.rcParams['font.family'] = 'Helvetica'\n",
    "    fig, (ax1, ax2) = plt.subplots(2, 1, figsize=(12, 10))\n",
    "\n",
    "    df1a = results_1.summary_df.sort_values('median').reset_index(drop=True)\n",
    "    df1b = results_2.summary_df.sort_values('median').reset_index(drop=True)\n",
    "    df2a = results_3.summary_df.sort_values('median').reset_index(drop=True)\n",
    "    df2b = results_4.summary_df.sort_values('median').reset_index(drop=True)\n",
    "\n",
    "\n",
    "    ax1.plot(df1a.index, df1a['median'], label='Promotion Condition', color=colors[0])\n",
    "    ax1.fill_between(df1a.index, df1a['ci_down'], df1a['ci_up'], color=colors[0], alpha=0.15)\n",
    "    ax1.plot(df1b.index, df1b['median'], label='Prevention Condition', color=colors[3])\n",
    "    ax1.fill_between(df1b.index, df1b['ci_down'], df1b['ci_up'], color=colors[3], alpha=0.15)\n",
    "    ax1.set_xlabel('Model Rank', fontsize=16)\n",
    "    ax1.set_ylabel('Reconstructed Estimate\\n(with Moral Impurity)', fontsize=16)\n",
    "    ax1.set_title('a.', loc='left', fontsize=18, y=1.025, x=-0.075)\n",
    "    ax1.spines['bottom'].set_position(('outward', 10))\n",
    "    ax1.spines['left'].set_position(('outward', 10))\n",
    "    ax1.legend()\n",
    "    ax1.tick_params(labelsize=12)\n",
    "    ax1.set_ylim(-0.6, 0.7)\n",
    "    ax1.set_xlim(0, ax1.get_xlim()[1])\n",
    "    ax1.grid(True, axis='both', linestyle=(0, (2, 6)),\n",
    "             linewidth=0.74, alpha=0.3, color='k', zorder=3)\n",
    "\n",
    "    ax2.plot(df2a.index, df2a['median'], label='Promotion Condition', color=colors[0])\n",
    "    ax2.fill_between(df2a.index, df2a['ci_down'], df2a['ci_up'], color=colors[0], alpha=0.15)\n",
    "    ax2.plot(df2b.index, df2b['median'], label='Prevention Condition', color=colors[3])\n",
    "    ax2.fill_between(df2b.index, df2b['ci_down'], df2b['ci_up'], color=colors[3], alpha=0.15)\n",
    "    ax2.set_ylabel('Published Estimate\\n(with Moral Impurity)', fontsize=16)\n",
    "    ax2.set_xlabel('Model Rank', fontsize=16)\n",
    "    ax2.legend()\n",
    "    ax2.spines['bottom'].set_position(('outward', 10))\n",
    "    ax2.spines['left'].set_position(('outward', 10))\n",
    "    ax2.set_title('b.', loc='left', fontsize=18, y=1.025, x=-0.075)\n",
    "    ax2.tick_params(labelsize=12)\n",
    "    ax2.set_ylim(-0.6, 0.7)\n",
    "    ax2.set_xlim(0, ax2.get_xlim()[1])\n",
    "    ax2.grid(True, axis='both', linestyle=(0, (2, 6)),\n",
    "             linewidth=0.74, alpha=0.3, color='k', zorder=3)\n",
    "\n",
    "\n",
    "    legend_elements2 = [Patch(facecolor=colors[0], edgecolor='k',\n",
    "                              label=r'Promotion (CI)', alpha=0.7),\n",
    "                        Line2D([0], [0], color=colors[0], lw=1, linestyle='-',\n",
    "                               label=r'Promotion (Med.)', alpha=0.7),\n",
    "                        Patch(facecolor=colors[3], edgecolor='k',\n",
    "                              label=r'Prevention (CI)', alpha=0.7),\n",
    "                        Line2D([0], [0], color=colors[3], lw=1, linestyle='-',\n",
    "                               label=r'Prevention (Med.)', alpha=0.7)]\n",
    "    ax2.legend(handles=legend_elements2, loc='upper right', frameon=True,\n",
    "               fontsize=10, framealpha=1, facecolor='w', ncols=2,\n",
    "               edgecolor=(0, 0, 0, 1),\n",
    "               )\n",
    "\n",
    "    ax1.get_legend().remove()\n",
    "    \n",
    "    plt.tight_layout()\n",
    "    sns.despine()\n",
    "    plt.show()\n",
    "    #plt.savefig(\"./figures/gino/\" + fig_name + '.pdf', bbox_inches='tight')\n",
    "    #plt.savefig(\"./figures/gino/\" + fig_name + '.png', bbox_inches='tight', dpi=400)\n",
    "    #plt.savefig(\"./figures/gino/\" + fig_name + '.svg', bbox_inches='tight')"
   ]
  },
  {
   "cell_type": "code",
   "execution_count": 12,
   "metadata": {},
   "outputs": [
    {
     "name": "stderr",
     "output_type": "stream",
     "text": [
      "/tmp/ipykernel_19139/728670720.py:1: DtypeWarning: Columns (2098) have mixed types. Specify dtype option on import or set low_memory=False.\n",
      "  data = pd.read_csv('./data/1_3_prep_mcs_data.csv')\n"
     ]
    }
   ],
   "source": [
    "data = pd.read_csv('./data/1_3_prep_mcs_data.csv')"
   ]
  },
  {
   "cell_type": "markdown",
   "metadata": {},
   "source": [
    "## No-Controls, participant"
   ]
  },
  {
   "cell_type": "code",
   "execution_count": 13,
   "metadata": {},
   "outputs": [
    {
     "name": "stderr",
     "output_type": "stream",
     "text": [
      "/home/daniel/code/robustipy/src/robustipy/prototypes.py:128: MissingValueWarning: Missing values found in data. Listwise deletion will be applied.\n",
      "  warnings.warn(\n"
     ]
    },
    {
     "name": "stdout",
     "output_type": "stream",
     "text": [
      "Calculating Composite Ys\n"
     ]
    },
    {
     "data": {
      "application/vnd.jupyter.widget-view+json": {
       "model_id": "717be484a33040d4a32bca5fd5b8042c",
       "version_major": 2,
       "version_minor": 0
      },
      "text/plain": [
       "Output()"
      ]
     },
     "metadata": {},
     "output_type": "display_data"
    },
    {
     "name": "stdout",
     "output_type": "stream",
     "text": [
      "[OLSRobust] Running with n_cpu=7, draws=50\n"
     ]
    },
    {
     "data": {
      "text/html": [
       "<pre style=\"white-space:pre;overflow-x:auto;line-height:normal;font-family:Menlo,'DejaVu Sans Mono',consolas,'Courier New',monospace\"></pre>\n"
      ],
      "text/plain": []
     },
     "metadata": {},
     "output_type": "display_data"
    }
   ],
   "source": [
    "y = [\"fcmdsa00r\",\n",
    "    \"fcmdsb00r\",\n",
    "    \"fcmdsc00r\",\n",
    "    \"fcmdsd00r\",\n",
    "    \"fcmdse00r\",\n",
    "    \"fcmdsf00r\",\n",
    "    \"fcmdsg00r\",\n",
    "    \"fcmdsh00r\",\n",
    "    \"fcmdsi00r\",\n",
    "    \"fcmdsj00r\",\n",
    "    \"fcmdsk00r\",\n",
    "    \"fcmdsl00r\",\n",
    "    \"fcmdsm00r\",\n",
    "    \"fcsati00r\",\n",
    "    \"fcgdql00r\",\n",
    "    \"fcdowl00r\",\n",
    "    \"fcvalu00r\",\n",
    "    \"fcgdsf00r\",\n",
    "    \"fcscwk00r\",\n",
    "    \"fcwylk00r\",\n",
    "    \"fcfmly00r\",\n",
    "    \"fcfrns00r\",\n",
    "    \"fcschl00r\",\n",
    "    \"fclife00r\",\n",
    "    ]\n",
    "x = [\n",
    "    \"tech\"\n",
    "]\n",
    "c= []\n",
    "\n",
    "orben_1 = OLSRobust(y=y, x=x, data=data)\n",
    "orben_1.fit(controls=c, draws=n_draws, composite_sample=100)\n",
    "orben_1_results = orben_1.get_results()"
   ]
  },
  {
   "cell_type": "markdown",
   "metadata": {},
   "source": [
    "## Control, Participant"
   ]
  },
  {
   "cell_type": "code",
   "execution_count": 14,
   "metadata": {},
   "outputs": [
    {
     "name": "stderr",
     "output_type": "stream",
     "text": [
      "/home/daniel/code/robustipy/src/robustipy/prototypes.py:128: MissingValueWarning: Missing values found in data. Listwise deletion will be applied.\n",
      "  warnings.warn(\n"
     ]
    },
    {
     "name": "stdout",
     "output_type": "stream",
     "text": [
      "Calculating Composite Ys\n"
     ]
    },
    {
     "data": {
      "application/vnd.jupyter.widget-view+json": {
       "model_id": "12bcfa737f5b45dab3071b12fd5091ed",
       "version_major": 2,
       "version_minor": 0
      },
      "text/plain": [
       "Output()"
      ]
     },
     "metadata": {},
     "output_type": "display_data"
    },
    {
     "name": "stdout",
     "output_type": "stream",
     "text": [
      "[OLSRobust] Running with n_cpu=7, draws=50\n"
     ]
    },
    {
     "data": {
      "text/html": [
       "<pre style=\"white-space:pre;overflow-x:auto;line-height:normal;font-family:Menlo,'DejaVu Sans Mono',consolas,'Courier New',monospace\"></pre>\n"
      ],
      "text/plain": []
     },
     "metadata": {},
     "output_type": "display_data"
    }
   ],
   "source": [
    "y = [\"fcmdsa00r\",\n",
    "    \"fcmdsb00r\",\n",
    "    \"fcmdsc00r\",\n",
    "    \"fcmdsd00r\",\n",
    "    \"fcmdse00r\",\n",
    "    \"fcmdsf00r\",\n",
    "    \"fcmdsg00r\",\n",
    "    \"fcmdsh00r\",\n",
    "    \"fcmdsi00r\",\n",
    "    \"fcmdsj00r\",\n",
    "    \"fcmdsk00r\",\n",
    "    \"fcmdsl00r\",\n",
    "    \"fcmdsm00r\",\n",
    "    \"fcsati00r\",\n",
    "    \"fcgdql00r\",\n",
    "    \"fcdowl00r\",\n",
    "    \"fcvalu00r\",\n",
    "    \"fcgdsf00r\",\n",
    "    \"fcscwk00r\",\n",
    "    \"fcwylk00r\",\n",
    "    \"fcfmly00r\",\n",
    "    \"fcfrns00r\",\n",
    "    \"fcschl00r\",\n",
    "    \"fclife00r\",\n",
    "    ]\n",
    "x = [\n",
    "    \"tech\",\n",
    "    \"edumot\",\n",
    "    \"fd06e00\",\n",
    "    \"clpar\",\n",
    "    \"fcpaab00\",\n",
    "    \"fpwrdscm\",\n",
    "    \"fdacaq00\",\n",
    "    \"fd05s00\",\n",
    "    \"fpclsi00\",\n",
    "    \"fpchti00\",\n",
    "    \"fdkessl\",\n",
    "    \"fdtots00\",\n",
    "    \"foede000\"\n",
    "]\n",
    "c= []\n",
    "\n",
    "orben_2 = OLSRobust(y=y, x=x, data=data)\n",
    "orben_2.fit(controls=c, draws=n_draws, composite_sample=100)\n",
    "orben_2_results = orben_2.get_results()"
   ]
  },
  {
   "cell_type": "markdown",
   "metadata": {},
   "source": [
    "## No Controls, Primary carers"
   ]
  },
  {
   "cell_type": "code",
   "execution_count": 15,
   "metadata": {},
   "outputs": [
    {
     "name": "stderr",
     "output_type": "stream",
     "text": [
      "/home/daniel/code/robustipy/src/robustipy/prototypes.py:128: MissingValueWarning: Missing values found in data. Listwise deletion will be applied.\n",
      "  warnings.warn(\n"
     ]
    },
    {
     "name": "stdout",
     "output_type": "stream",
     "text": [
      "Calculating Composite Ys\n"
     ]
    },
    {
     "data": {
      "application/vnd.jupyter.widget-view+json": {
       "model_id": "e9143e86758a4a9b82399ae585273059",
       "version_major": 2,
       "version_minor": 0
      },
      "text/plain": [
       "Output()"
      ]
     },
     "metadata": {},
     "output_type": "display_data"
    },
    {
     "name": "stdout",
     "output_type": "stream",
     "text": [
      "[OLSRobust] Running with n_cpu=7, draws=50\n"
     ]
    },
    {
     "data": {
      "text/html": [
       "<pre style=\"white-space:pre;overflow-x:auto;line-height:normal;font-family:Menlo,'DejaVu Sans Mono',consolas,'Courier New',monospace\"></pre>\n"
      ],
      "text/plain": []
     },
     "metadata": {},
     "output_type": "display_data"
    }
   ],
   "source": [
    "y = [\"fpsdpf00\",\n",
    "    \"fpsdro00\",\n",
    "    \"fpsdhs00\",\n",
    "    \"fpsdsr00\",\n",
    "    \"fpsdtt00\",\n",
    "    \"fpsdsp00\",\n",
    "    \"fpsdor00\",\n",
    "    \"fpsdmw00\",\n",
    "    \"fpsdhu00\",\n",
    "    \"fpsdfs00\",\n",
    "    \"fpsdgf00\",\n",
    "    \"fpsdfb00\",\n",
    "    \"fpsdud00\",\n",
    "    \"fpsdlc00\",\n",
    "    \"fpsddc00\",\n",
    "    \"fpsdnc00\",\n",
    "    \"fpsdky00\",\n",
    "    \"fpsdoa00\",\n",
    "    \"fpsdpb00\",\n",
    "    \"fpsdvh00\",\n",
    "    \"fpsdst00\",\n",
    "    \"fpsdcs00\",\n",
    "    \"fpsdgb00\",\n",
    "    \"fpsdfe00\",\n",
    "    \"fpsdte00\"\n",
    "    ]\n",
    "x = [\n",
    "    \"tech\"\n",
    "]\n",
    "c= []\n",
    "\n",
    "orben_3 = OLSRobust(y=y, x=x, data=data)\n",
    "orben_3.fit(controls=c, draws=n_draws, composite_sample=100)\n",
    "orben_3_results = orben_3.get_results()"
   ]
  },
  {
   "cell_type": "markdown",
   "metadata": {},
   "source": [
    "## Controls, Primary Carers"
   ]
  },
  {
   "cell_type": "code",
   "execution_count": 16,
   "metadata": {},
   "outputs": [
    {
     "name": "stderr",
     "output_type": "stream",
     "text": [
      "/home/daniel/code/robustipy/src/robustipy/prototypes.py:128: MissingValueWarning: Missing values found in data. Listwise deletion will be applied.\n",
      "  warnings.warn(\n"
     ]
    },
    {
     "name": "stdout",
     "output_type": "stream",
     "text": [
      "Calculating Composite Ys\n"
     ]
    },
    {
     "data": {
      "application/vnd.jupyter.widget-view+json": {
       "model_id": "0c34d5056c534053b7c2acca20ccf7a9",
       "version_major": 2,
       "version_minor": 0
      },
      "text/plain": [
       "Output()"
      ]
     },
     "metadata": {},
     "output_type": "display_data"
    },
    {
     "name": "stdout",
     "output_type": "stream",
     "text": [
      "[OLSRobust] Running with n_cpu=7, draws=50\n"
     ]
    },
    {
     "data": {
      "text/html": [
       "<pre style=\"white-space:pre;overflow-x:auto;line-height:normal;font-family:Menlo,'DejaVu Sans Mono',consolas,'Courier New',monospace\"></pre>\n"
      ],
      "text/plain": []
     },
     "metadata": {},
     "output_type": "display_data"
    },
    {
     "name": "stderr",
     "output_type": "stream",
     "text": [
      "Exception ignored in: <function ResourceTracker.__del__ at 0x7f75abd42200>\n",
      "Traceback (most recent call last):\n",
      "  File \"/usr/lib64/python3.13/multiprocessing/resource_tracker.py\", line 82, in __del__\n",
      "  File \"/usr/lib64/python3.13/multiprocessing/resource_tracker.py\", line 91, in _stop\n",
      "  File \"/usr/lib64/python3.13/multiprocessing/resource_tracker.py\", line 116, in _stop_locked\n",
      "ChildProcessError: [Errno 10] No child processes\n",
      "Exception ignored in: <function ResourceTracker.__del__ at 0x7f8fede3e200>\n",
      "Traceback (most recent call last):\n",
      "  File \"/usr/lib64/python3.13/multiprocessing/resource_tracker.py\", line 82, in __del__\n",
      "  File \"/usr/lib64/python3.13/multiprocessing/resource_tracker.py\", line 91, in _stop\n",
      "  File \"/usr/lib64/python3.13/multiprocessing/resource_tracker.py\", line 116, in _stop_locked\n",
      "ChildProcessError: [Errno 10] No child processes\n",
      "Exception ignored in: <function ResourceTracker.__del__ at 0x7fbd6e952200>\n",
      "Traceback (most recent call last):\n",
      "  File \"/usr/lib64/python3.13/multiprocessing/resource_tracker.py\", line 82, in __del__\n",
      "  File \"/usr/lib64/python3.13/multiprocessing/resource_tracker.py\", line 91, in _stop\n",
      "  File \"/usr/lib64/python3.13/multiprocessing/resource_tracker.py\", line 116, in _stop_locked\n",
      "ChildProcessError: [Errno 10] No child processes\n",
      "Exception ignored in: <function ResourceTracker.__del__ at 0x7f6894b4a200>\n",
      "Traceback (most recent call last):\n",
      "  File \"/usr/lib64/python3.13/multiprocessing/resource_tracker.py\", line 82, in __del__\n",
      "  File \"/usr/lib64/python3.13/multiprocessing/resource_tracker.py\", line 91, in _stop\n",
      "  File \"/usr/lib64/python3.13/multiprocessing/resource_tracker.py\", line 116, in _stop_locked\n",
      "ChildProcessError: [Errno 10] No child processes\n",
      "Exception ignored in: <function ResourceTracker.__del__ at 0x7f8a1944a200>\n",
      "Traceback (most recent call last):\n",
      "  File \"/usr/lib64/python3.13/multiprocessing/resource_tracker.py\", line 82, in __del__\n",
      "  File \"/usr/lib64/python3.13/multiprocessing/resource_tracker.py\", line 91, in _stop\n",
      "  File \"/usr/lib64/python3.13/multiprocessing/resource_tracker.py\", line 116, in _stop_locked\n",
      "ChildProcessError: [Errno 10] No child processes\n",
      "Exception ignored in: <function ResourceTracker.__del__ at 0x7ff69924e200>\n",
      "Traceback (most recent call last):\n",
      "  File \"/usr/lib64/python3.13/multiprocessing/resource_tracker.py\", line 82, in __del__\n",
      "  File \"/usr/lib64/python3.13/multiprocessing/resource_tracker.py\", line 91, in _stop\n",
      "  File \"/usr/lib64/python3.13/multiprocessing/resource_tracker.py\", line 116, in _stop_locked\n",
      "ChildProcessError: [Errno 10] No child processes\n",
      "Exception ignored in: <function ResourceTracker.__del__ at 0x7faeaa63e200>\n",
      "Traceback (most recent call last):\n",
      "  File \"/usr/lib64/python3.13/multiprocessing/resource_tracker.py\", line 82, in __del__\n",
      "  File \"/usr/lib64/python3.13/multiprocessing/resource_tracker.py\", line 91, in _stop\n",
      "  File \"/usr/lib64/python3.13/multiprocessing/resource_tracker.py\", line 116, in _stop_locked\n",
      "ChildProcessError: [Errno 10] No child processes\n"
     ]
    }
   ],
   "source": [
    "y = [\"fpsdpf00\",\n",
    "    \"fpsdro00\",\n",
    "    \"fpsdhs00\",\n",
    "    \"fpsdsr00\",\n",
    "    \"fpsdtt00\",\n",
    "    \"fpsdsp00\",\n",
    "    \"fpsdor00\",\n",
    "    \"fpsdmw00\",\n",
    "    \"fpsdhu00\",\n",
    "    \"fpsdfs00\",\n",
    "    \"fpsdgf00\",\n",
    "    \"fpsdfb00\",\n",
    "    \"fpsdud00\",\n",
    "    \"fpsdlc00\",\n",
    "    \"fpsddc00\",\n",
    "    \"fpsdnc00\",\n",
    "    \"fpsdky00\",\n",
    "    \"fpsdoa00\",\n",
    "    \"fpsdpb00\",\n",
    "    \"fpsdvh00\",\n",
    "    \"fpsdst00\",\n",
    "    \"fpsdcs00\",\n",
    "    \"fpsdgb00\",\n",
    "    \"fpsdfe00\",\n",
    "    \"fpsdte00\"\n",
    "    ]\n",
    "x = [\n",
    "    \"tech\",\n",
    "    \"edumot\",\n",
    "    \"fd06e00\",\n",
    "    \"clpar\",\n",
    "    \"fcpaab00\",\n",
    "    \"fpwrdscm\",\n",
    "    \"fdacaq00\",\n",
    "    \"fd05s00\",\n",
    "    \"fpclsi00\",\n",
    "    \"fpchti00\",\n",
    "    \"fdkessl\",\n",
    "    \"fdtots00\",\n",
    "    \"foede000\"\n",
    "]\n",
    "c= []\n",
    "\n",
    "orben_4 = OLSRobust(y=y, x=x, data=data)\n",
    "orben_4.fit(controls=c, draws=n_draws, composite_sample=100)\n",
    "orben_4_results = orben_4.get_results()"
   ]
  },
  {
   "cell_type": "code",
   "execution_count": null,
   "metadata": {},
   "outputs": [],
   "source": []
  }
 ],
 "metadata": {
  "kernelspec": {
   "display_name": "robustipy",
   "language": "python",
   "name": "python3"
  },
  "language_info": {
   "codemirror_mode": {
    "name": "ipython",
    "version": 3
   },
   "file_extension": ".py",
   "mimetype": "text/x-python",
   "name": "python",
   "nbconvert_exporter": "python",
   "pygments_lexer": "ipython3",
   "version": "3.13.3"
  }
 },
 "nbformat": 4,
 "nbformat_minor": 4
}
