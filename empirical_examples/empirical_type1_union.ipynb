{
 "cells": [
  {
   "cell_type": "markdown",
   "id": "2f67a8a3-7fd4-4cd4-99f7-7f73d7ad03e6",
   "metadata": {},
   "source": [
    "### Empirical Example for RobustiPY (Type 1)!\n",
    "\n",
    "#### This example is designed to show how basic functionality -- such as OLS can be used with a cross-sectional dataset -- works."
   ]
  },
  {
   "cell_type": "markdown",
   "id": "3a0dde6b-5343-4100-8ccf-53c298a77825",
   "metadata": {},
   "source": [
    "Lets first load in two basic python libraries that we'll need for this example: the `os` module (for path handling), and `matplotlib.pyplot` (for plotting)"
   ]
  },
  {
   "cell_type": "code",
   "execution_count": 1,
   "id": "ab11b040-49b1-45e1-81c4-827795fc539b",
   "metadata": {
    "ExecuteTime": {
     "end_time": "2025-05-05T17:31:33.968158Z",
     "start_time": "2025-05-05T17:31:33.500072Z"
    }
   },
   "outputs": [],
   "source": [
    "import os # for filepath handling\n",
    "import requests # for grabbing the dataset\n",
    "import matplotlib.pyplot as plt # for plotting"
   ]
  },
  {
   "cell_type": "markdown",
   "id": "23035adf-6010-4cbf-9c68-fdfa005d948e",
   "metadata": {},
   "source": [
    "Let's make sure that we have RobustiPy installed. To do this (especially on Collab):"
   ]
  },
  {
   "cell_type": "markdown",
   "id": "97f05d0b-5b5a-4cc7-9e4d-2d911bc91e4b",
   "metadata": {},
   "source": [
    "Note next that this example uses the [union.dta](https://www.stata-press.com/data/r9/nlsw88.dta) dataset. This dataset is a subsample of the file National Longitudinal Survey of Young Women 88 data (Center for Human Resource Research 1989). Women were surveyed in each of the 21 years 1968–1988, except for the six years 1974, 1976, 1979, 1981, 1984, and 1986).\n",
    "\n",
    "For more information on the NLS (see [http://www.bls.gov/nls/](http://www.bls.gov/nls/) or [https://www.nlsinfo.org/weights/nlsyw](https://www.nlsinfo.org/weights/nlsyw) for more details). Importantly, this dataset is entirely anonymised and publicly available.\n",
    "\n",
    "Importantly for our purposes, it contains information on things like log-wage, union membership, and so forth.\n",
    "\n",
    "Importantly, you should make sure that you have a copy of the [union.dta](https://www.stata-press.com/data/r17/union.dta) file located at somewhere like `.data\\input`. We are not repackaging this dataset ourselves to be maximally respectful of all appropriate licenses at this time.n."
   ]
  },
  {
   "cell_type": "markdown",
   "id": "c91243fd-1b0f-4abc-8101-99786b71e89a",
   "metadata": {},
   "source": [
    "Now, let's load the two RobustiPy utils that we're going to need:"
   ]
  },
  {
   "cell_type": "code",
   "execution_count": 2,
   "id": "aac86153-a672-4599-a422-5591b51d3be2",
   "metadata": {
    "ExecuteTime": {
     "end_time": "2025-05-05T17:31:39.326468Z",
     "start_time": "2025-05-05T17:31:36.819232Z"
    }
   },
   "outputs": [],
   "source": [
    "from robustipy.utils import prepare_union\n",
    "from robustipy.models import OLSRobust"
   ]
  },
  {
   "cell_type": "markdown",
   "id": "2fc46bf3-6ff8-4c99-8dda-f0f63d5b045b",
   "metadata": {},
   "source": [
    "Our key objective is going to try to assess the effect of unionisation (i.e. our 'x' or '$\\beta_1$' on wage. To do this, we'll vary various specifications along the way, and compare our results against other results in the literature\\other statistical software.\n",
    "\n",
    "Next, now that we've got this research question, robustipy installed, and our data set up, lets define a very simple function for this union example, and comment along as we go."
   ]
  },
  {
   "cell_type": "code",
   "execution_count": 3,
   "id": "afdc280e-03d5-42d8-9b08-a7af9071f56d",
   "metadata": {
    "ExecuteTime": {
     "end_time": "2025-05-05T17:31:41.310781Z",
     "start_time": "2025-05-05T17:31:41.302393Z"
    }
   },
   "outputs": [],
   "source": [
    "import os\n",
    "import requests\n",
    "import statsmodels.formula.api as smf\n",
    "\n",
    "def union_example():\n",
    "    \"\"\"\n",
    "    A simple function for estimating the wage premium or penalty as a function\n",
    "    of the NLSW1988 dataset using RobustiPy.\n",
    "\n",
    "    Inputs:  None\n",
    "    Outputs: union_results (RobustiPy fit results)\n",
    "    \"\"\"\n",
    "    # 1. Download nlsw88.dta if needed\n",
    "    def get_nlsw88(url, path, fname):\n",
    "        response = requests.get(url, stream=True)\n",
    "        if not os.path.exists(path):\n",
    "            os.makedirs(path)\n",
    "            print(f\"Directory '{path}' created.\")\n",
    "        else:\n",
    "            print(f\"Directory '{path}' already exists.\")\n",
    "        \n",
    "        if response.status_code == 200:\n",
    "            full_path = os.path.join(path, fname)\n",
    "            with open(full_path, 'wb') as f:\n",
    "                for chunk in response.iter_content(chunk_size=8192):\n",
    "                    f.write(chunk)\n",
    "            print(f\"Downloaded '{fname}' to '{full_path}'.\")\n",
    "        else:\n",
    "            raise RuntimeError(f\"Failed to download '{url}', status code {response.status_code}.\")\n",
    "\n",
    "    get_nlsw88(\n",
    "        url='https://www.stata-press.com/data/r10/nlsw88.dta',\n",
    "        path=os.path.join('..', 'data', 'union_example'),\n",
    "        fname='nlsw88.dta'\n",
    "    )\n",
    "\n",
    "    # 2. Prepare the data (y, z, x, data) via your existing function\n",
    "    y, z, x, data = prepare_union(\n",
    "        os.path.join('..', 'data', 'union_example', 'nlsw88.dta')\n",
    "    )\n",
    "\n",
    "    # 3. Extract the dependent‐variable name (y_name)\n",
    "    if isinstance(y, str):\n",
    "        y_name = y\n",
    "    else:\n",
    "        y_name = getattr(y, 'name', None)\n",
    "        if not isinstance(y_name, str):\n",
    "            raise ValueError(\"`y` must be a pandas.Series with a valid `.name` or a string.\")\n",
    "\n",
    "    # 4. Extract the main regressor names (x_names)\n",
    "    if isinstance(x, str):\n",
    "        # Split on whitespace and join with ' + '\n",
    "        x_names = x.strip().split()\n",
    "    elif hasattr(x, 'columns'):\n",
    "        x_names = list(x.columns)\n",
    "    else:\n",
    "        raise ValueError(\"`x` must be either a string or a pandas.DataFrame.\")\n",
    "\n",
    "    # 5. Extract the control variable names (z_names)\n",
    "    if z is None:\n",
    "        z_names = []\n",
    "    elif isinstance(z, list) and all(isinstance(var, str) for var in z):\n",
    "        z_names = z.copy()\n",
    "    elif hasattr(z, 'columns'):\n",
    "        z_names = list(z.columns)\n",
    "    else:\n",
    "        raise ValueError(\"`z` must be None, a list of strings, or a pandas.DataFrame.\")\n",
    "\n",
    "    # 6. Verify that each name in x_names + z_names appears in data.columns\n",
    "    missing = [var for var in (x_names + z_names) if var not in data.columns]\n",
    "    if missing:\n",
    "        raise KeyError(f\"The following variables are missing from data.columns: {missing}\")\n",
    "\n",
    "    # 7. Build the Patsy‐formula string with spaces around each '+'\n",
    "    rhs_vars = x_names + z_names\n",
    "    if not rhs_vars:\n",
    "        formula_str = f\"{y_name} ~ 1\"\n",
    "    else:\n",
    "        formula_str = f\"{y_name} ~ \" + \" + \".join(rhs_vars)\n",
    "\n",
    "    # 8. Define helper to run OLS with HC1 robust standard errors\n",
    "    def run_regression(formula, data, label):\n",
    "        model = smf.ols(formula=formula, data=data).fit(cov_type='HC1')\n",
    "        print(f\"\\n--- Column {label} (HC1) ---\")\n",
    "        print(model.summary())\n",
    "\n",
    "    # 9. Run the regression using the dynamically constructed formula_str\n",
    "    run_regression(formula_str, data, label=1)\n",
    "\n",
    "    # 10. Call RobustiPy’s OLSRobust, passing y, x, and data; use z as controls\n",
    "    union_robust = OLSRobust(y=[y], x=[x], data=data)\n",
    "    union_robust.fit(\n",
    "        controls=z,\n",
    "        draws=1000,\n",
    "        kfold=10,\n",
    "        seed=192735,\n",
    "        oos_metric='rmse',\n",
    "        threshold=2000000\n",
    "    )\n",
    "\n",
    "    union_results = union_robust.get_results()\n",
    "    return union_results\n"
   ]
  },
  {
   "cell_type": "markdown",
   "id": "31c0f621-a0f1-451a-b0ce-43085338474a",
   "metadata": {},
   "source": [
    "Great: now that we've defined our union plotting function, lets actually call it:"
   ]
  },
  {
   "cell_type": "code",
   "execution_count": 4,
   "id": "64800377-497d-458c-923b-a2f151e5e465",
   "metadata": {
    "ExecuteTime": {
     "end_time": "2025-05-05T17:37:58.273464Z",
     "start_time": "2025-05-05T17:31:47.878445Z"
    }
   },
   "outputs": [
    {
     "name": "stdout",
     "output_type": "stream",
     "text": [
      "Directory '../data/union_example' already exists.\n",
      "Downloaded 'nlsw88.dta' to '../data/union_example/nlsw88.dta'.\n",
      "\n",
      "--- Column 1 (HC1) ---\n",
      "                            OLS Regression Results                            \n",
      "==============================================================================\n",
      "Dep. Variable:               log_wage   R-squared:                       0.343\n",
      "Model:                            OLS   Adj. R-squared:                  0.340\n",
      "Method:                 Least Squares   F-statistic:                     128.5\n",
      "Date:                Fri, 06 Jun 2025   Prob (F-statistic):          5.69e-228\n",
      "Time:                        16:31:01   Log-Likelihood:                -11695.\n",
      "No. Observations:                2225   AIC:                         2.341e+04\n",
      "Df Residuals:                    2213   BIC:                         2.348e+04\n",
      "Df Model:                          11                                         \n",
      "Covariance Type:                  HC1                                         \n",
      "==============================================================================\n",
      "                 coef    std err          z      P>|z|      [0.025      0.975]\n",
      "------------------------------------------------------------------------------\n",
      "Intercept     57.4169     16.388      3.504      0.000      25.297      89.537\n",
      "union         10.1802      2.307      4.413      0.000       5.658      14.702\n",
      "hours          0.5770      0.120      4.810      0.000       0.342       0.812\n",
      "age           -0.8614      0.323     -2.668      0.008      -1.494      -0.229\n",
      "grade          6.5252      0.644     10.127      0.000       5.262       7.788\n",
      "collgrad       3.1613      4.057      0.779      0.436      -4.791      11.114\n",
      "married        1.4551      2.151      0.677      0.499      -2.760       5.670\n",
      "south        -12.3263      2.095     -5.883      0.000     -16.433      -8.220\n",
      "smsa          23.4299      2.452      9.554      0.000      18.624      28.236\n",
      "c_city        -5.2040      2.448     -2.126      0.034     -10.002      -0.406\n",
      "ttl_exp        2.9325      0.272     10.776      0.000       2.399       3.466\n",
      "tenure         1.0454      0.221      4.727      0.000       0.612       1.479\n",
      "==============================================================================\n",
      "Omnibus:                      352.297   Durbin-Watson:                   1.933\n",
      "Prob(Omnibus):                  0.000   Jarque-Bera (JB):             1156.723\n",
      "Skew:                           0.786   Prob(JB):                    6.62e-252\n",
      "Kurtosis:                       6.163   Cond. No.                         940.\n",
      "==============================================================================\n",
      "\n",
      "Notes:\n",
      "[1] Standard Errors are heteroscedasticity robust (HC1)\n",
      "You haven’t specified the number of CPUs. Is 7 okay? (yes/no): 5\n",
      "Enter number of CPUs to use [1–8]: 1\n"
     ]
    },
    {
     "data": {
      "application/vnd.jupyter.widget-view+json": {
       "model_id": "aa94adaa706c4c448f5a0c78d920c85a",
       "version_major": 2,
       "version_minor": 0
      },
      "text/plain": [
       "Output()"
      ]
     },
     "metadata": {},
     "output_type": "display_data"
    },
    {
     "name": "stdout",
     "output_type": "stream",
     "text": [
      "OLSRobust is running with n_cpu=1, draws=1000, folds=10, seed=192735.\n",
      "We're evaluating our out-of-sample predictions with the rmse metric.\n",
      "The target variable of interest is union. Let's begin the calculations...\n"
     ]
    },
    {
     "data": {
      "text/html": [
       "<pre style=\"white-space:pre;overflow-x:auto;line-height:normal;font-family:Menlo,'DejaVu Sans Mono',consolas,'Courier New',monospace\"></pre>\n"
      ],
      "text/plain": []
     },
     "metadata": {},
     "output_type": "display_data"
    },
    {
     "data": {
      "text/html": [
       "<pre style=\"white-space:pre;overflow-x:auto;line-height:normal;font-family:Menlo,'DejaVu Sans Mono',consolas,'Courier New',monospace\">\n",
       "</pre>\n"
      ],
      "text/plain": [
       "\n"
      ]
     },
     "metadata": {},
     "output_type": "display_data"
    }
   ],
   "source": [
    "results = union_example()"
   ]
  },
  {
   "cell_type": "code",
   "execution_count": 5,
   "id": "9f758c6a-586e-4ad4-9cf4-d9df696a1b1a",
   "metadata": {
    "ExecuteTime": {
     "end_time": "2025-05-05T17:38:03.922849Z",
     "start_time": "2025-05-05T17:37:58.359416Z"
    }
   },
   "outputs": [
    {
     "ename": "TypeError",
     "evalue": "OLSResult.plot() got an unexpected keyword argument 'highlights'",
     "output_type": "error",
     "traceback": [
      "\u001b[0;31m---------------------------------------------------------------------------\u001b[0m",
      "\u001b[0;31mTypeError\u001b[0m                                 Traceback (most recent call last)",
      "Cell \u001b[0;32mIn[5], line 1\u001b[0m\n\u001b[0;32m----> 1\u001b[0m results\u001b[38;5;241m.\u001b[39mplot(specs\u001b[38;5;241m=\u001b[39m[[\u001b[38;5;124m'\u001b[39m\u001b[38;5;124mhours\u001b[39m\u001b[38;5;124m'\u001b[39m, \u001b[38;5;124m'\u001b[39m\u001b[38;5;124mcollgrad\u001b[39m\u001b[38;5;124m'\u001b[39m],\n\u001b[1;32m      2\u001b[0m                     [\u001b[38;5;124m'\u001b[39m\u001b[38;5;124mcollgrad\u001b[39m\u001b[38;5;124m'\u001b[39m]\n\u001b[1;32m      3\u001b[0m                    ],\n\u001b[1;32m      4\u001b[0m              ic\u001b[38;5;241m=\u001b[39m\u001b[38;5;124m'\u001b[39m\u001b[38;5;124mhqic\u001b[39m\u001b[38;5;124m'\u001b[39m,\n\u001b[1;32m      5\u001b[0m              ext\u001b[38;5;241m=\u001b[39m\u001b[38;5;124m'\u001b[39m\u001b[38;5;124mpdf\u001b[39m\u001b[38;5;124m'\u001b[39m,\n\u001b[1;32m      6\u001b[0m              project_name\u001b[38;5;241m=\u001b[39m\u001b[38;5;124m'\u001b[39m\u001b[38;5;124munion_example\u001b[39m\u001b[38;5;124m'\u001b[39m,\n\u001b[1;32m      7\u001b[0m              figpath \u001b[38;5;241m=\u001b[39m \u001b[38;5;124m'\u001b[39m\u001b[38;5;124m../figures\u001b[39m\u001b[38;5;124m'\u001b[39m,\n\u001b[1;32m      8\u001b[0m              highlights\u001b[38;5;241m=\u001b[39m\u001b[38;5;28;01mTrue\u001b[39;00m,\n\u001b[1;32m      9\u001b[0m              figsize\u001b[38;5;241m=\u001b[39m(\u001b[38;5;241m16\u001b[39m, \u001b[38;5;241m16\u001b[39m)\n\u001b[1;32m     10\u001b[0m             )\n",
      "\u001b[0;31mTypeError\u001b[0m: OLSResult.plot() got an unexpected keyword argument 'highlights'"
     ]
    }
   ],
   "source": [
    "results.plot(specs=[['hours', 'collgrad'],\n",
    "                    ['collgrad']\n",
    "                   ],\n",
    "             ic='hqic',\n",
    "             ext='pdf',\n",
    "             project_name='union_example',\n",
    "             figpath = '../figures',\n",
    "             highlights=True,\n",
    "             figsize=(16, 16)\n",
    "            )"
   ]
  },
  {
   "cell_type": "code",
   "execution_count": null,
   "id": "3971c5a88c6ad6c5",
   "metadata": {
    "ExecuteTime": {
     "end_time": "2025-05-05T17:38:03.940906Z",
     "start_time": "2025-05-05T17:38:03.935252Z"
    }
   },
   "outputs": [],
   "source": [
    "results.summary(digits=1)"
   ]
  },
  {
   "cell_type": "markdown",
   "id": "c02b4593-a0e1-4fc8-8615-272d4fb04c76",
   "metadata": {},
   "source": [
    "Ta da!"
   ]
  }
 ],
 "metadata": {
  "kernelspec": {
   "display_name": "Python 3 (ipykernel)",
   "language": "python",
   "name": "python3"
  },
  "language_info": {
   "codemirror_mode": {
    "name": "ipython",
    "version": 3
   },
   "file_extension": ".py",
   "mimetype": "text/x-python",
   "name": "python",
   "nbconvert_exporter": "python",
   "pygments_lexer": "ipython3",
   "version": "3.11.5"
  }
 },
 "nbformat": 4,
 "nbformat_minor": 5
}
