{
  "cells": [
    {
      "cell_type": "markdown",
      "id": "ea0c85e6-6e60-4c3d-98bb-3ab4393f9286",
      "metadata": {
        "id": "ea0c85e6-6e60-4c3d-98bb-3ab4393f9286"
      },
      "source": [
        "### Empirical Example Three for RobustiPy!\n",
        "\n",
        "#### This example is designed to show how the OLSRobust class can be used to estimate a model with longitudinal data.\n",
        "\n",
        "To get access to this data, you'll need the Understanding Society: Longitudinal Teaching Dataset, Waves 1-9, 2009-2018 from [[here](https://beta.ukdataservice.ac.uk/datacatalogue/studies/study?id=8715#!/access-data)]. Registration is immediate for this. Documentation which accompanies it can be found [[here](https://doc.ukdataservice.ac.uk/doc/8715/mrdoc/pdf/8715_user_guide.pdf)].\n",
        "\n",
        "You want to put this data somewhere like `.data/input`.\n",
        "\n",
        "As always, lets load in some of the libraries which we'll need:"
      ]
    },
    {
      "cell_type": "code",
      "execution_count": null,
      "id": "rep1cbtwUKU5",
      "metadata": {
        "id": "rep1cbtwUKU5"
      },
      "outputs": [],
      "source": [
        "%pip install git+https://github.com/robustipy/robustipy.git"
      ]
    },
    {
      "cell_type": "code",
      "execution_count": 102,
      "id": "adc695c7-3b69-4f42-96ae-cf45dc06186b",
      "metadata": {
        "id": "adc695c7-3b69-4f42-96ae-cf45dc06186b"
      },
      "outputs": [],
      "source": [
        "import os\n",
        "import numpy as np\n",
        "import pandas as pd\n",
        "from robustipy.models import OLSRobust"
      ]
    },
    {
      "cell_type": "markdown",
      "id": "079a137c-8d7b-4793-ba25-ca1ea625a4bb",
      "metadata": {
        "id": "079a137c-8d7b-4793-ba25-ca1ea625a4bb"
      },
      "source": [
        "Then, load in the dataset (note: we are using the tab-seperated version, but they should all be equivilent):"
      ]
    },
    {
      "cell_type": "code",
      "execution_count": 103,
      "id": "972f6252-119b-4405-a6a8-7b57f33bec7e",
      "metadata": {
        "id": "972f6252-119b-4405-a6a8-7b57f33bec7e"
      },
      "outputs": [],
      "source": [
        "df = pd.read_csv('longitudinal_td.tab', sep='\\t', low_memory=False)"
      ]
    },
    {
      "cell_type": "markdown",
      "id": "1b631db5-4e40-44b8-b0c1-05ac900b5453",
      "metadata": {
        "id": "1b631db5-4e40-44b8-b0c1-05ac900b5453"
      },
      "source": [
        "Let's quickly eyeball the data to see what we have:"
      ]
    },
    {
      "cell_type": "code",
      "execution_count": 104,
      "id": "d6f961b1-671a-4f30-87e5-1f59453460f1",
      "metadata": {
        "id": "d6f961b1-671a-4f30-87e5-1f59453460f1",
        "outputId": "f8db8f93-affa-40fa-b74a-e3f064369dac"
      },
      "outputs": [
        {
          "data": {
            "text/plain": [
              "pidp\n",
              "1634625491    9\n",
              "1634625487    9\n",
              "68004087      9\n",
              "68006127      9\n",
              "68006807      9\n",
              "             ..\n",
              "1633798615    1\n",
              "1633804727    1\n",
              "1633810167    1\n",
              "1633816287    1\n",
              "1633816291    1\n",
              "Name: count, Length: 36619, dtype: int64"
            ]
          },
          "execution_count": 104,
          "metadata": {},
          "output_type": "execute_result"
        }
      ],
      "source": [
        "df.pidp.value_counts()"
      ]
    },
    {
      "cell_type": "markdown",
      "id": "8781d2f2-e518-48ab-ac94-1d5218015467",
      "metadata": {
        "id": "8781d2f2-e518-48ab-ac94-1d5218015467"
      },
      "source": [
        "Our main dependent variable of interest is sf1_dv: General health."
      ]
    },
    {
      "cell_type": "code",
      "execution_count": 105,
      "id": "99cb2d4a-bee3-4312-92c0-c77771da4448",
      "metadata": {
        "id": "99cb2d4a-bee3-4312-92c0-c77771da4448"
      },
      "outputs": [],
      "source": [
        "df['sf1_dv'] = pd.to_numeric(df['sf1_dv'], errors='coerce')"
      ]
    },
    {
      "cell_type": "markdown",
      "id": "98e0e3bc-c772-4e8a-bc98-b7f2439c0a37",
      "metadata": {
        "id": "98e0e3bc-c772-4e8a-bc98-b7f2439c0a37"
      },
      "source": [
        "Then, we're going to binarise it so that good health is 3 or more (==1), zero otherwise:"
      ]
    },
    {
      "cell_type": "code",
      "execution_count": 106,
      "id": "4fd5f1b0-f1e1-4bf1-ad46-bda2c643b0f3",
      "metadata": {
        "id": "4fd5f1b0-f1e1-4bf1-ad46-bda2c643b0f3"
      },
      "outputs": [],
      "source": [
        "df = df[df['sf1_dv']>0]\n",
        "df['sf1_dv_good'] = np.where(df['sf1_dv']>=3, 1, 0)"
      ]
    },
    {
      "cell_type": "markdown",
      "id": "298a9ea0-326d-43df-96f2-2679bd376ce4",
      "metadata": {
        "id": "298a9ea0-326d-43df-96f2-2679bd376ce4"
      },
      "source": [
        "Our grouping variable needs to be a string"
      ]
    },
    {
      "cell_type": "code",
      "execution_count": 107,
      "id": "fb823b76-aaa0-4aef-a697-5254e4b7c625",
      "metadata": {
        "id": "fb823b76-aaa0-4aef-a697-5254e4b7c625"
      },
      "outputs": [],
      "source": [
        "df['pidp'] = df['pidp'].astype(str)"
      ]
    },
    {
      "cell_type": "markdown",
      "id": "f130ba7b-8b37-4c2f-92a8-08aa431c6c89",
      "metadata": {
        "id": "f130ba7b-8b37-4c2f-92a8-08aa431c6c89"
      },
      "source": [
        "Let's convert our `sex_dv` variable into binary 1s and zeros:"
      ]
    },
    {
      "cell_type": "code",
      "execution_count": 108,
      "id": "df447000-dd63-44c6-bc8d-3ea93e11c130",
      "metadata": {
        "id": "df447000-dd63-44c6-bc8d-3ea93e11c130",
        "outputId": "a95f52a9-25b7-4d9a-c453-fde1a1758f3f"
      },
      "outputs": [
        {
          "data": {
            "text/plain": [
              "<Axes: >"
            ]
          },
          "execution_count": 108,
          "metadata": {},
          "output_type": "execute_result"
        },
        {
          "data": {
            "image/png": "[encoded data removed]",
            "text/plain": [
              "<Figure size 640x480 with 1 Axes>"
            ]
          },
          "metadata": {},
          "output_type": "display_data"
        }
      ],
      "source": [
        "df['sex_dv'] = pd.to_numeric(df['sex_dv'], errors='coerce')\n",
        "df['sex_dv'] = np.where(df['sex_dv']==2, 1, 0)\n",
        "df['sex_dv'].hist()"
      ]
    },
    {
      "cell_type": "markdown",
      "id": "343b6f53-3d09-476b-985b-022e0a478a14",
      "metadata": {
        "id": "343b6f53-3d09-476b-985b-022e0a478a14"
      },
      "source": [
        "Let's do something similar for cohab_dv, but this is already 1s and 0s:"
      ]
    },
    {
      "cell_type": "code",
      "execution_count": 109,
      "id": "75b81769-4347-451b-b88e-964f8594bf95",
      "metadata": {
        "id": "75b81769-4347-451b-b88e-964f8594bf95"
      },
      "outputs": [],
      "source": [
        "df['cohab_dv'] = pd.to_numeric(df['cohab_dv'], errors='coerce')\n",
        "df = df[df['cohab_dv']>=0]"
      ]
    },
    {
      "cell_type": "code",
      "execution_count": 110,
      "id": "c411f9eb-083a-48dd-b052-628b23001f4f",
      "metadata": {
        "id": "c411f9eb-083a-48dd-b052-628b23001f4f",
        "outputId": "b572d596-9b41-4e5d-9128-253569fc779e"
      },
      "outputs": [
        {
          "data": {
            "text/plain": [
              "<Axes: >"
            ]
          },
          "execution_count": 110,
          "metadata": {},
          "output_type": "execute_result"
        },
        {
          "data": {
            "image/png": "[encoded data removed]",
            "text/plain": [
              "<Figure size 640x480 with 1 Axes>"
            ]
          },
          "metadata": {},
          "output_type": "display_data"
        }
      ],
      "source": [
        "df['urban_dv'] = pd.to_numeric(df['urban_dv'], errors='coerce')\n",
        "df = df[df['urban_dv']>0]\n",
        "df['urban_dv'].hist()"
      ]
    },
    {
      "cell_type": "markdown",
      "id": "cb97f5dc-e16b-4bdc-a7d1-cec7b94b03ce",
      "metadata": {
        "id": "cb97f5dc-e16b-4bdc-a7d1-cec7b94b03ce"
      },
      "source": [
        "Lets then – for simplicity and without failing to appreciate the complexity of this variable – dichotomize an additional variable (after cleaning it for missing/non-response). You can make something as simple as `is_british` (==1, 0 otherwise), or something more elaborate."
      ]
    },
    {
      "cell_type": "code",
      "execution_count": 111,
      "id": "dd230358-0b91-4bc3-be73-02528e37ce02",
      "metadata": {
        "id": "dd230358-0b91-4bc3-be73-02528e37ce02"
      },
      "outputs": [],
      "source": [
        "df['ethn_dv'] = pd.to_numeric(df['ethn_dv'], errors='coerce')\n",
        "df = df[df['ethn_dv']>0]\n",
        "df['is_british'] = np.where(df['ethn_dv']==1, 1, 0)"
      ]
    },
    {
      "cell_type": "code",
      "execution_count": 112,
      "id": "e83873d2-8d37-438f-9686-1a3b1c78675f",
      "metadata": {
        "id": "e83873d2-8d37-438f-9686-1a3b1c78675f"
      },
      "outputs": [],
      "source": [
        "df['bmi_dv'] = pd.to_numeric(df['bmi_dv'], errors='coerce')\n",
        "df = df[df['bmi_dv']>0]"
      ]
    },
    {
      "cell_type": "code",
      "execution_count": 113,
      "id": "82095c85-0c7f-44b4-aeca-9a4f0641d7e7",
      "metadata": {
        "id": "82095c85-0c7f-44b4-aeca-9a4f0641d7e7"
      },
      "outputs": [],
      "source": [
        "df = df[df['hhsize_dv']>0]"
      ]
    },
    {
      "cell_type": "code",
      "execution_count": 114,
      "id": "02edd26b-ca2b-4f7e-a626-2e23f329413e",
      "metadata": {
        "id": "02edd26b-ca2b-4f7e-a626-2e23f329413e"
      },
      "outputs": [],
      "source": [
        "df['age_dv'] = pd.to_numeric(df['age_dv'], errors='coerce')\n",
        "df = df[df['age_dv']>0]"
      ]
    },
    {
      "cell_type": "markdown",
      "id": "be2cbeb9-77d0-40d3-b274-54dc54b619f6",
      "metadata": {
        "id": "be2cbeb9-77d0-40d3-b274-54dc54b619f6"
      },
      "source": [
        "Let's next make a variable for whether an individual has a degree or not:"
      ]
    },
    {
      "cell_type": "code",
      "execution_count": 115,
      "id": "4d63b9ba-b7ec-4a9d-a5d1-9cc2ff99014d",
      "metadata": {
        "id": "4d63b9ba-b7ec-4a9d-a5d1-9cc2ff99014d"
      },
      "outputs": [],
      "source": [
        "df['hiqual_dv'] = pd.to_numeric(df['hiqual_dv'], errors='coerce')\n",
        "df['has_degree'] = np.where(df['hiqual_dv']==3, 1, 0)"
      ]
    },
    {
      "cell_type": "markdown",
      "id": "1111872e-ce63-450c-8f81-aacf3edd5a6f",
      "metadata": {
        "id": "1111872e-ce63-450c-8f81-aacf3edd5a6f"
      },
      "source": [
        "Subset our dataframe for simplicity:"
      ]
    },
    {
      "cell_type": "code",
      "execution_count": 116,
      "id": "1945ef1d-d561-4df6-b5f6-771261e4fc0a",
      "metadata": {
        "id": "1945ef1d-d561-4df6-b5f6-771261e4fc0a",
        "outputId": "382ffc24-7241-485f-e821-18164afe057d"
      },
      "outputs": [
        {
          "data": {
            "text/html": [
              "<div>\n",
              "<style scoped>\n",
              "    .dataframe tbody tr th:only-of-type {\n",
              "        vertical-align: middle;\n",
              "    }\n",
              "\n",
              "    .dataframe tbody tr th {\n",
              "        vertical-align: top;\n",
              "    }\n",
              "\n",
              "    .dataframe thead th {\n",
              "        text-align: right;\n",
              "    }\n",
              "</style>\n",
              "<table border=\"1\" class=\"dataframe\">\n",
              "  <thead>\n",
              "    <tr style=\"text-align: right;\">\n",
              "      <th></th>\n",
              "      <th>sf1_dv_good</th>\n",
              "      <th>age_dv</th>\n",
              "      <th>sex_dv</th>\n",
              "      <th>cohab_dv</th>\n",
              "      <th>pidp</th>\n",
              "      <th>is_british</th>\n",
              "      <th>urban_dv</th>\n",
              "      <th>hhsize_dv</th>\n",
              "    </tr>\n",
              "  </thead>\n",
              "  <tbody>\n",
              "    <tr>\n",
              "      <th>0</th>\n",
              "      <td>0</td>\n",
              "      <td>39</td>\n",
              "      <td>0</td>\n",
              "      <td>0</td>\n",
              "      <td>68001367</td>\n",
              "      <td>1</td>\n",
              "      <td>1.0</td>\n",
              "      <td>1</td>\n",
              "    </tr>\n",
              "    <tr>\n",
              "      <th>1</th>\n",
              "      <td>0</td>\n",
              "      <td>59</td>\n",
              "      <td>0</td>\n",
              "      <td>0</td>\n",
              "      <td>68004087</td>\n",
              "      <td>0</td>\n",
              "      <td>1.0</td>\n",
              "      <td>1</td>\n",
              "    </tr>\n",
              "    <tr>\n",
              "      <th>2</th>\n",
              "      <td>1</td>\n",
              "      <td>39</td>\n",
              "      <td>1</td>\n",
              "      <td>1</td>\n",
              "      <td>68006127</td>\n",
              "      <td>1</td>\n",
              "      <td>1.0</td>\n",
              "      <td>4</td>\n",
              "    </tr>\n",
              "    <tr>\n",
              "      <th>3</th>\n",
              "      <td>1</td>\n",
              "      <td>72</td>\n",
              "      <td>1</td>\n",
              "      <td>0</td>\n",
              "      <td>68006807</td>\n",
              "      <td>1</td>\n",
              "      <td>1.0</td>\n",
              "      <td>1</td>\n",
              "    </tr>\n",
              "    <tr>\n",
              "      <th>4</th>\n",
              "      <td>0</td>\n",
              "      <td>57</td>\n",
              "      <td>1</td>\n",
              "      <td>0</td>\n",
              "      <td>68007487</td>\n",
              "      <td>1</td>\n",
              "      <td>1.0</td>\n",
              "      <td>4</td>\n",
              "    </tr>\n",
              "  </tbody>\n",
              "</table>\n",
              "</div>"
            ],
            "text/plain": [
              "   sf1_dv_good  age_dv  sex_dv  cohab_dv      pidp  is_british  urban_dv  \\\n",
              "0            0      39       0         0  68001367           1       1.0   \n",
              "1            0      59       0         0  68004087           0       1.0   \n",
              "2            1      39       1         1  68006127           1       1.0   \n",
              "3            1      72       1         0  68006807           1       1.0   \n",
              "4            0      57       1         0  68007487           1       1.0   \n",
              "\n",
              "   hhsize_dv  \n",
              "0          1  \n",
              "1          1  \n",
              "2          4  \n",
              "3          1  \n",
              "4          4  "
            ]
          },
          "execution_count": 116,
          "metadata": {},
          "output_type": "execute_result"
        }
      ],
      "source": [
        "df = df.reset_index()\n",
        "df = df[['sf1_dv_good', 'age_dv', 'sex_dv', 'cohab_dv', 'pidp', 'is_british', 'urban_dv', 'hhsize_dv']]\n",
        "df.head(5)"
      ]
    },
    {
      "cell_type": "markdown",
      "id": "c85c358e-7f5a-48ba-96fe-5bce553c520d",
      "metadata": {
        "id": "c85c358e-7f5a-48ba-96fe-5bce553c520d"
      },
      "source": [
        "What's the length?"
      ]
    },
    {
      "cell_type": "code",
      "execution_count": 117,
      "id": "d458dee0-c4fe-47dc-aa76-42c8157823b5",
      "metadata": {
        "id": "d458dee0-c4fe-47dc-aa76-42c8157823b5",
        "outputId": "b464e899-53fe-495c-ad6d-69412258a641"
      },
      "outputs": [
        {
          "data": {
            "text/plain": [
              "34230"
            ]
          },
          "execution_count": 117,
          "metadata": {},
          "output_type": "execute_result"
        }
      ],
      "source": [
        "len(df)"
      ]
    },
    {
      "cell_type": "markdown",
      "id": "6216bf35-7f3a-457d-b82c-b4248fc29bd2",
      "metadata": {
        "id": "6216bf35-7f3a-457d-b82c-b4248fc29bd2"
      },
      "source": [
        "Now let's drop and see if we lose any (we shouldnt, though! Why?)"
      ]
    },
    {
      "cell_type": "code",
      "execution_count": 118,
      "id": "6899f4c1-9f2f-45f6-9ed1-94fbf44789ab",
      "metadata": {
        "id": "6899f4c1-9f2f-45f6-9ed1-94fbf44789ab",
        "outputId": "e41cd2ad-e329-4b5b-b8ca-97f5c4fb36d0"
      },
      "outputs": [
        {
          "name": "stdout",
          "output_type": "stream",
          "text": [
            "34230\n"
          ]
        }
      ],
      "source": [
        "#df = df.dropna()\n",
        "print(len(df))"
      ]
    },
    {
      "cell_type": "markdown",
      "id": "01d666be-165b-42c2-9933-c721ccdb868a",
      "metadata": {
        "id": "01d666be-165b-42c2-9933-c721ccdb868a"
      },
      "source": [
        "Now what does our dataset look like?"
      ]
    },
    {
      "cell_type": "code",
      "execution_count": 119,
      "id": "97be4c10-45ba-41dc-81d6-67785210b6d4",
      "metadata": {
        "id": "97be4c10-45ba-41dc-81d6-67785210b6d4",
        "outputId": "53f26bcf-7bfb-410b-932c-35982357e2e2"
      },
      "outputs": [
        {
          "data": {
            "text/html": [
              "<div>\n",
              "<style scoped>\n",
              "    .dataframe tbody tr th:only-of-type {\n",
              "        vertical-align: middle;\n",
              "    }\n",
              "\n",
              "    .dataframe tbody tr th {\n",
              "        vertical-align: top;\n",
              "    }\n",
              "\n",
              "    .dataframe thead th {\n",
              "        text-align: right;\n",
              "    }\n",
              "</style>\n",
              "<table border=\"1\" class=\"dataframe\">\n",
              "  <thead>\n",
              "    <tr style=\"text-align: right;\">\n",
              "      <th></th>\n",
              "      <th>sf1_dv_good</th>\n",
              "      <th>age_dv</th>\n",
              "      <th>sex_dv</th>\n",
              "      <th>cohab_dv</th>\n",
              "      <th>pidp</th>\n",
              "      <th>is_british</th>\n",
              "      <th>urban_dv</th>\n",
              "      <th>hhsize_dv</th>\n",
              "    </tr>\n",
              "  </thead>\n",
              "  <tbody>\n",
              "    <tr>\n",
              "      <th>0</th>\n",
              "      <td>0</td>\n",
              "      <td>39</td>\n",
              "      <td>0</td>\n",
              "      <td>0</td>\n",
              "      <td>68001367</td>\n",
              "      <td>1</td>\n",
              "      <td>1.0</td>\n",
              "      <td>1</td>\n",
              "    </tr>\n",
              "    <tr>\n",
              "      <th>1</th>\n",
              "      <td>0</td>\n",
              "      <td>59</td>\n",
              "      <td>0</td>\n",
              "      <td>0</td>\n",
              "      <td>68004087</td>\n",
              "      <td>0</td>\n",
              "      <td>1.0</td>\n",
              "      <td>1</td>\n",
              "    </tr>\n",
              "    <tr>\n",
              "      <th>2</th>\n",
              "      <td>1</td>\n",
              "      <td>39</td>\n",
              "      <td>1</td>\n",
              "      <td>1</td>\n",
              "      <td>68006127</td>\n",
              "      <td>1</td>\n",
              "      <td>1.0</td>\n",
              "      <td>4</td>\n",
              "    </tr>\n",
              "    <tr>\n",
              "      <th>3</th>\n",
              "      <td>1</td>\n",
              "      <td>72</td>\n",
              "      <td>1</td>\n",
              "      <td>0</td>\n",
              "      <td>68006807</td>\n",
              "      <td>1</td>\n",
              "      <td>1.0</td>\n",
              "      <td>1</td>\n",
              "    </tr>\n",
              "    <tr>\n",
              "      <th>4</th>\n",
              "      <td>0</td>\n",
              "      <td>57</td>\n",
              "      <td>1</td>\n",
              "      <td>0</td>\n",
              "      <td>68007487</td>\n",
              "      <td>1</td>\n",
              "      <td>1.0</td>\n",
              "      <td>4</td>\n",
              "    </tr>\n",
              "  </tbody>\n",
              "</table>\n",
              "</div>"
            ],
            "text/plain": [
              "   sf1_dv_good  age_dv  sex_dv  cohab_dv      pidp  is_british  urban_dv  \\\n",
              "0            0      39       0         0  68001367           1       1.0   \n",
              "1            0      59       0         0  68004087           0       1.0   \n",
              "2            1      39       1         1  68006127           1       1.0   \n",
              "3            1      72       1         0  68006807           1       1.0   \n",
              "4            0      57       1         0  68007487           1       1.0   \n",
              "\n",
              "   hhsize_dv  \n",
              "0          1  \n",
              "1          1  \n",
              "2          4  \n",
              "3          1  \n",
              "4          4  "
            ]
          },
          "execution_count": 119,
          "metadata": {},
          "output_type": "execute_result"
        }
      ],
      "source": [
        "df.head(5)"
      ]
    },
    {
      "cell_type": "markdown",
      "id": "705fc79f-f760-4152-8db5-8299214ac3a8",
      "metadata": {
        "id": "705fc79f-f760-4152-8db5-8299214ac3a8"
      },
      "source": [
        "Lets quickly check the correlation matrix to check that nothing funky is going on:"
      ]
    },
    {
      "cell_type": "code",
      "execution_count": 120,
      "id": "987324e5-c8b3-44fa-b9e5-b0e92a8495c8",
      "metadata": {
        "id": "987324e5-c8b3-44fa-b9e5-b0e92a8495c8",
        "outputId": "ceb20214-06c9-49b7-de06-556bea5633a4"
      },
      "outputs": [
        {
          "data": {
            "text/html": [
              "<div>\n",
              "<style scoped>\n",
              "    .dataframe tbody tr th:only-of-type {\n",
              "        vertical-align: middle;\n",
              "    }\n",
              "\n",
              "    .dataframe tbody tr th {\n",
              "        vertical-align: top;\n",
              "    }\n",
              "\n",
              "    .dataframe thead th {\n",
              "        text-align: right;\n",
              "    }\n",
              "</style>\n",
              "<table border=\"1\" class=\"dataframe\">\n",
              "  <thead>\n",
              "    <tr style=\"text-align: right;\">\n",
              "      <th></th>\n",
              "      <th>sf1_dv_good</th>\n",
              "      <th>age_dv</th>\n",
              "      <th>sex_dv</th>\n",
              "      <th>cohab_dv</th>\n",
              "      <th>pidp</th>\n",
              "      <th>is_british</th>\n",
              "      <th>urban_dv</th>\n",
              "      <th>hhsize_dv</th>\n",
              "    </tr>\n",
              "  </thead>\n",
              "  <tbody>\n",
              "    <tr>\n",
              "      <th>sf1_dv_good</th>\n",
              "      <td>1.000000</td>\n",
              "      <td>0.208998</td>\n",
              "      <td>-0.001299</td>\n",
              "      <td>-0.028347</td>\n",
              "      <td>-0.009759</td>\n",
              "      <td>0.042729</td>\n",
              "      <td>-0.017000</td>\n",
              "      <td>-0.098832</td>\n",
              "    </tr>\n",
              "    <tr>\n",
              "      <th>age_dv</th>\n",
              "      <td>0.208998</td>\n",
              "      <td>1.000000</td>\n",
              "      <td>-0.018613</td>\n",
              "      <td>-0.203955</td>\n",
              "      <td>-0.001068</td>\n",
              "      <td>0.265207</td>\n",
              "      <td>0.142563</td>\n",
              "      <td>-0.433070</td>\n",
              "    </tr>\n",
              "    <tr>\n",
              "      <th>sex_dv</th>\n",
              "      <td>-0.001299</td>\n",
              "      <td>-0.018613</td>\n",
              "      <td>1.000000</td>\n",
              "      <td>-0.015608</td>\n",
              "      <td>-0.008472</td>\n",
              "      <td>0.019662</td>\n",
              "      <td>0.014392</td>\n",
              "      <td>0.014259</td>\n",
              "    </tr>\n",
              "    <tr>\n",
              "      <th>cohab_dv</th>\n",
              "      <td>-0.028347</td>\n",
              "      <td>-0.203955</td>\n",
              "      <td>-0.015608</td>\n",
              "      <td>1.000000</td>\n",
              "      <td>-0.009566</td>\n",
              "      <td>0.067149</td>\n",
              "      <td>-0.017806</td>\n",
              "      <td>0.046745</td>\n",
              "    </tr>\n",
              "    <tr>\n",
              "      <th>pidp</th>\n",
              "      <td>-0.009759</td>\n",
              "      <td>-0.001068</td>\n",
              "      <td>-0.008472</td>\n",
              "      <td>-0.009566</td>\n",
              "      <td>1.000000</td>\n",
              "      <td>-0.041170</td>\n",
              "      <td>-0.027662</td>\n",
              "      <td>0.013737</td>\n",
              "    </tr>\n",
              "    <tr>\n",
              "      <th>is_british</th>\n",
              "      <td>0.042729</td>\n",
              "      <td>0.265207</td>\n",
              "      <td>0.019662</td>\n",
              "      <td>0.067149</td>\n",
              "      <td>-0.041170</td>\n",
              "      <td>1.000000</td>\n",
              "      <td>0.207085</td>\n",
              "      <td>-0.218748</td>\n",
              "    </tr>\n",
              "    <tr>\n",
              "      <th>urban_dv</th>\n",
              "      <td>-0.017000</td>\n",
              "      <td>0.142563</td>\n",
              "      <td>0.014392</td>\n",
              "      <td>-0.017806</td>\n",
              "      <td>-0.027662</td>\n",
              "      <td>0.207085</td>\n",
              "      <td>1.000000</td>\n",
              "      <td>-0.049093</td>\n",
              "    </tr>\n",
              "    <tr>\n",
              "      <th>hhsize_dv</th>\n",
              "      <td>-0.098832</td>\n",
              "      <td>-0.433070</td>\n",
              "      <td>0.014259</td>\n",
              "      <td>0.046745</td>\n",
              "      <td>0.013737</td>\n",
              "      <td>-0.218748</td>\n",
              "      <td>-0.049093</td>\n",
              "      <td>1.000000</td>\n",
              "    </tr>\n",
              "  </tbody>\n",
              "</table>\n",
              "</div>"
            ],
            "text/plain": [
              "             sf1_dv_good    age_dv    sex_dv  cohab_dv      pidp  is_british  \\\n",
              "sf1_dv_good     1.000000  0.208998 -0.001299 -0.028347 -0.009759    0.042729   \n",
              "age_dv          0.208998  1.000000 -0.018613 -0.203955 -0.001068    0.265207   \n",
              "sex_dv         -0.001299 -0.018613  1.000000 -0.015608 -0.008472    0.019662   \n",
              "cohab_dv       -0.028347 -0.203955 -0.015608  1.000000 -0.009566    0.067149   \n",
              "pidp           -0.009759 -0.001068 -0.008472 -0.009566  1.000000   -0.041170   \n",
              "is_british      0.042729  0.265207  0.019662  0.067149 -0.041170    1.000000   \n",
              "urban_dv       -0.017000  0.142563  0.014392 -0.017806 -0.027662    0.207085   \n",
              "hhsize_dv      -0.098832 -0.433070  0.014259  0.046745  0.013737   -0.218748   \n",
              "\n",
              "             urban_dv  hhsize_dv  \n",
              "sf1_dv_good -0.017000  -0.098832  \n",
              "age_dv       0.142563  -0.433070  \n",
              "sex_dv       0.014392   0.014259  \n",
              "cohab_dv    -0.017806   0.046745  \n",
              "pidp        -0.027662   0.013737  \n",
              "is_british   0.207085  -0.218748  \n",
              "urban_dv     1.000000  -0.049093  \n",
              "hhsize_dv   -0.049093   1.000000  "
            ]
          },
          "execution_count": 120,
          "metadata": {},
          "output_type": "execute_result"
        }
      ],
      "source": [
        "df.corr()"
      ]
    },
    {
      "cell_type": "markdown",
      "id": "ebf0fc16-fa7d-430c-9327-73241699ce37",
      "metadata": {
        "id": "ebf0fc16-fa7d-430c-9327-73241699ce37"
      },
      "source": [
        "What data types do we have here?"
      ]
    },
    {
      "cell_type": "code",
      "execution_count": 121,
      "id": "e0abb6ed-d285-4661-80e7-9d8483de5a39",
      "metadata": {
        "id": "e0abb6ed-d285-4661-80e7-9d8483de5a39",
        "outputId": "512801d5-0378-4886-ccc9-46cf5005b997"
      },
      "outputs": [
        {
          "data": {
            "text/plain": [
              "sf1_dv_good      int64\n",
              "age_dv           int64\n",
              "sex_dv           int64\n",
              "cohab_dv         int64\n",
              "pidp            object\n",
              "is_british       int64\n",
              "urban_dv       float64\n",
              "hhsize_dv        int64\n",
              "dtype: object"
            ]
          },
          "execution_count": 121,
          "metadata": {},
          "output_type": "execute_result"
        }
      ],
      "source": [
        "df.dtypes"
      ]
    },
    {
      "cell_type": "code",
      "execution_count": 122,
      "id": "7adaec0c",
      "metadata": {
        "id": "7adaec0c"
      },
      "outputs": [
        {
          "data": {
            "text/plain": [
              "pidp\n",
              "1634649971    1\n",
              "68001367      1\n",
              "68004087      1\n",
              "68006127      1\n",
              "68006807      1\n",
              "             ..\n",
              "68039447      1\n",
              "68040127      1\n",
              "68041487      1\n",
              "68042167      1\n",
              "68042171      1\n",
              "Name: count, Length: 34230, dtype: int64"
            ]
          },
          "execution_count": 122,
          "metadata": {},
          "output_type": "execute_result"
        }
      ],
      "source": [
        "df['pidp'].value_counts()"
      ]
    },
    {
      "cell_type": "markdown",
      "id": "776ddc04-2f10-47f0-a309-537e8bff9098",
      "metadata": {
        "id": "776ddc04-2f10-47f0-a309-537e8bff9098"
      },
      "source": [
        "Finally, lets call RobustiPy as we do in other examples, noting the group='pipd' call:"
      ]
    },
    {
      "cell_type": "code",
      "execution_count": 125,
      "id": "dfa0e7a2-0615-4943-bdb2-d09bd8a428a8",
      "metadata": {
        "id": "dfa0e7a2-0615-4943-bdb2-d09bd8a428a8"
      },
      "outputs": [],
      "source": [
        "ukhls_robustipy = OLSRobust(y=['age_dv'],\n",
        "                            x=['sex_dv'],\n",
        "                            data=df.dropna())"
      ]
    },
    {
      "cell_type": "markdown",
      "id": "cd089581-8a61-4937-b43c-ab79c825f571",
      "metadata": {
        "id": "cd089581-8a61-4937-b43c-ab79c825f571"
      },
      "source": [
        "Now, let's fit the model:"
      ]
    },
    {
      "cell_type": "code",
      "execution_count": 126,
      "id": "0f9d2f5b-883c-4567-99de-e479e9216ee4",
      "metadata": {
        "colab": {
          "referenced_widgets": [
            "2ac8fd2002454ab5b251ccd23984976f"
          ]
        },
        "id": "0f9d2f5b-883c-4567-99de-e479e9216ee4",
        "outputId": "d3925af7-604f-4b5d-e427-f063fd9af160"
      },
      "outputs": [
        {
          "data": {
            "application/vnd.jupyter.widget-view+json": {
              "model_id": "8506967af8e44fd1aa0cdf0ae7d0786a",
              "version_major": 2,
              "version_minor": 0
            },
            "text/plain": [
              "Output()"
            ]
          },
          "metadata": {},
          "output_type": "display_data"
        },
        {
          "data": {
            "text/html": [
              "<pre style=\"white-space:pre;overflow-x:auto;line-height:normal;font-family:Menlo,'DejaVu Sans Mono',consolas,'Courier New',monospace\"></pre>\n"
            ],
            "text/plain": []
          },
          "metadata": {},
          "output_type": "display_data"
        },
        {
          "data": {
            "text/html": [
              "<pre style=\"white-space:pre;overflow-x:auto;line-height:normal;font-family:Menlo,'DejaVu Sans Mono',consolas,'Courier New',monospace\">\n",
              "</pre>\n"
            ],
            "text/plain": [
              "\n"
            ]
          },
          "metadata": {},
          "output_type": "display_data"
        },
        {
          "ename": "ValueError",
          "evalue": "Inputs must not be empty.",
          "output_type": "error",
          "traceback": [
            "\u001b[0;31m---------------------------------------------------------------------------\u001b[0m",
            "\u001b[0;31m_RemoteTraceback\u001b[0m                          Traceback (most recent call last)",
            "\u001b[0;31m_RemoteTraceback\u001b[0m: \n\"\"\"\nTraceback (most recent call last):\n  File \"/home/daniel/code/robustipy/lib64/python3.12/site-packages/joblib/externals/loky/process_executor.py\", line 463, in _process_worker\n    r = call_item()\n        ^^^^^^^^^^^\n  File \"/home/daniel/code/robustipy/lib64/python3.12/site-packages/joblib/externals/loky/process_executor.py\", line 291, in __call__\n    return self.fn(*self.args, **self.kwargs)\n           ^^^^^^^^^^^^^^^^^^^^^^^^^^^^^^^^^^\n  File \"/home/daniel/code/robustipy/lib64/python3.12/site-packages/joblib/parallel.py\", line 598, in __call__\n    return [func(*args, **kwargs)\n            ^^^^^^^^^^^^^^^^^^^^^\n  File \"/home/daniel/code/robustipy/src/robustipy/models.py\", line 904, in _strap_OLS\n    output = stripped_ols(y=y, x=x)\n             ^^^^^^^^^^^^^^^^^^^^^^\n  File \"/home/daniel/code/robustipy/src/robustipy/bootstrap_utils.py\", line 38, in stripped_ols\n    raise ValueError(\"Inputs must not be empty.\")\nValueError: Inputs must not be empty.\n\"\"\"",
            "\nThe above exception was the direct cause of the following exception:\n",
            "\u001b[0;31mValueError\u001b[0m                                Traceback (most recent call last)",
            "Cell \u001b[0;32mIn[126], line 1\u001b[0m\n\u001b[0;32m----> 1\u001b[0m \u001b[43mukhls_robustipy\u001b[49m\u001b[38;5;241;43m.\u001b[39;49m\u001b[43mfit\u001b[49m\u001b[43m(\u001b[49m\u001b[43mcontrols\u001b[49m\u001b[38;5;241;43m=\u001b[39;49m\u001b[43m[\u001b[49m\u001b[38;5;124;43m'\u001b[39;49m\u001b[38;5;124;43mcohab_dv\u001b[39;49m\u001b[38;5;124;43m'\u001b[39;49m\u001b[43m,\u001b[49m\n\u001b[1;32m      2\u001b[0m \u001b[43m                              \u001b[49m\u001b[38;5;124;43m'\u001b[39;49m\u001b[38;5;124;43msex_dv\u001b[39;49m\u001b[38;5;124;43m'\u001b[39;49m\u001b[43m,\u001b[49m\n\u001b[1;32m      3\u001b[0m \u001b[43m                              \u001b[49m\u001b[38;5;124;43m'\u001b[39;49m\u001b[38;5;124;43mis_british\u001b[39;49m\u001b[38;5;124;43m'\u001b[39;49m\u001b[43m,\u001b[49m\n\u001b[1;32m      4\u001b[0m \u001b[43m                              \u001b[49m\u001b[38;5;124;43m'\u001b[39;49m\u001b[38;5;124;43murban_dv\u001b[39;49m\u001b[38;5;124;43m'\u001b[39;49m\u001b[43m,\u001b[49m\n\u001b[1;32m      5\u001b[0m \u001b[43m                              \u001b[49m\u001b[38;5;124;43m'\u001b[39;49m\u001b[38;5;124;43mhhsize_dv\u001b[39;49m\u001b[38;5;124;43m'\u001b[39;49m\u001b[43m,\u001b[49m\n\u001b[1;32m      6\u001b[0m \u001b[43m                             \u001b[49m\u001b[43m]\u001b[49m\u001b[43m,\u001b[49m\n\u001b[1;32m      7\u001b[0m \u001b[43m                   \u001b[49m\u001b[43mdraws\u001b[49m\u001b[38;5;241;43m=\u001b[39;49m\u001b[38;5;241;43m10\u001b[39;49m\u001b[43m,\u001b[49m\n\u001b[1;32m      8\u001b[0m \u001b[43m                   \u001b[49m\u001b[43mkfold\u001b[49m\u001b[38;5;241;43m=\u001b[39;49m\u001b[38;5;241;43m10\u001b[39;49m\u001b[43m,\u001b[49m\n\u001b[1;32m      9\u001b[0m \u001b[43m                   \u001b[49m\u001b[43mgroup\u001b[49m\u001b[38;5;241;43m=\u001b[39;49m\u001b[38;5;124;43m'\u001b[39;49m\u001b[38;5;124;43mpidp\u001b[39;49m\u001b[38;5;124;43m'\u001b[39;49m\n\u001b[1;32m     10\u001b[0m \u001b[43m                   \u001b[49m\u001b[43m)\u001b[49m\n",
            "File \u001b[0;32m~/code/robustipy/src/robustipy/models.py:712\u001b[0m, in \u001b[0;36mOLSRobust.fit\u001b[0;34m(self, controls, group, draws, kfold, shuffle, oos_metric)\u001b[0m\n\u001b[1;32m    705\u001b[0m     comb \u001b[38;5;241m=\u001b[39m group_demean(comb, group\u001b[38;5;241m=\u001b[39mgroup)\n\u001b[1;32m    706\u001b[0m (b_all, p_all, ll_i,\n\u001b[1;32m    707\u001b[0m  aic_i, bic_i, hqic_i,\n\u001b[1;32m    708\u001b[0m  av_k_metric_i) \u001b[38;5;241m=\u001b[39m \u001b[38;5;28mself\u001b[39m\u001b[38;5;241m.\u001b[39m_full_sample_OLS(comb,\n\u001b[1;32m    709\u001b[0m                                         kfold\u001b[38;5;241m=\u001b[39mkfold,\n\u001b[1;32m    710\u001b[0m                                         group\u001b[38;5;241m=\u001b[39mgroup,\n\u001b[1;32m    711\u001b[0m                                         oos_metric_name\u001b[38;5;241m=\u001b[39m\u001b[38;5;28mself\u001b[39m\u001b[38;5;241m.\u001b[39moos_metric_name)\n\u001b[0;32m--> 712\u001b[0m b_list, p_list \u001b[38;5;241m=\u001b[39m (\u001b[38;5;28mzip\u001b[39m(\u001b[38;5;241m*\u001b[39m\u001b[43mParallel\u001b[49m\u001b[43m(\u001b[49m\u001b[43mn_jobs\u001b[49m\u001b[38;5;241;43m=\u001b[39;49m\u001b[38;5;241;43m-\u001b[39;49m\u001b[38;5;241;43m1\u001b[39;49m\u001b[43m)\u001b[49m\n\u001b[1;32m    713\u001b[0m \u001b[43m\u001b[49m\u001b[43m(\u001b[49m\u001b[43mdelayed\u001b[49m\u001b[43m(\u001b[49m\u001b[38;5;28;43mself\u001b[39;49m\u001b[38;5;241;43m.\u001b[39;49m\u001b[43m_strap_OLS\u001b[49m\u001b[43m)\u001b[49m\n\u001b[1;32m    714\u001b[0m \u001b[43m \u001b[49m\u001b[43m(\u001b[49m\u001b[43mcomb\u001b[49m\u001b[43m,\u001b[49m\n\u001b[1;32m    715\u001b[0m \u001b[43m  \u001b[49m\u001b[43mgroup\u001b[49m\u001b[43m,\u001b[49m\n\u001b[1;32m    716\u001b[0m \u001b[43m  \u001b[49m\u001b[43msample_size\u001b[49m\u001b[43m,\u001b[49m\n\u001b[1;32m    717\u001b[0m \u001b[43m  \u001b[49m\u001b[43mshuffle\u001b[49m\u001b[43m)\u001b[49m\n\u001b[1;32m    718\u001b[0m \u001b[43m \u001b[49m\u001b[38;5;28;43;01mfor\u001b[39;49;00m\u001b[43m \u001b[49m\u001b[43mi\u001b[49m\u001b[43m \u001b[49m\u001b[38;5;129;43;01min\u001b[39;49;00m\u001b[43m \u001b[49m\u001b[38;5;28;43mrange\u001b[39;49m\u001b[43m(\u001b[49m\u001b[38;5;241;43m0\u001b[39;49m\u001b[43m,\u001b[49m\n\u001b[1;32m    719\u001b[0m \u001b[43m                \u001b[49m\u001b[43mdraws\u001b[49m\u001b[43m)\u001b[49m\u001b[43m)\u001b[49m))\n\u001b[1;32m    721\u001b[0m specs\u001b[38;5;241m.\u001b[39mappend(\u001b[38;5;28mfrozenset\u001b[39m(spec))\n\u001b[1;32m    722\u001b[0m all_predictors\u001b[38;5;241m.\u001b[39mappend(\u001b[38;5;28mself\u001b[39m\u001b[38;5;241m.\u001b[39mx \u001b[38;5;241m+\u001b[39m \u001b[38;5;28mlist\u001b[39m(spec) \u001b[38;5;241m+\u001b[39m [\u001b[38;5;124m'\u001b[39m\u001b[38;5;124mconst\u001b[39m\u001b[38;5;124m'\u001b[39m])\n",
            "File \u001b[0;32m~/code/robustipy/lib64/python3.12/site-packages/joblib/parallel.py:2007\u001b[0m, in \u001b[0;36mParallel.__call__\u001b[0;34m(self, iterable)\u001b[0m\n\u001b[1;32m   2001\u001b[0m \u001b[38;5;66;03m# The first item from the output is blank, but it makes the interpreter\u001b[39;00m\n\u001b[1;32m   2002\u001b[0m \u001b[38;5;66;03m# progress until it enters the Try/Except block of the generator and\u001b[39;00m\n\u001b[1;32m   2003\u001b[0m \u001b[38;5;66;03m# reaches the first `yield` statement. This starts the asynchronous\u001b[39;00m\n\u001b[1;32m   2004\u001b[0m \u001b[38;5;66;03m# dispatch of the tasks to the workers.\u001b[39;00m\n\u001b[1;32m   2005\u001b[0m \u001b[38;5;28mnext\u001b[39m(output)\n\u001b[0;32m-> 2007\u001b[0m \u001b[38;5;28;01mreturn\u001b[39;00m output \u001b[38;5;28;01mif\u001b[39;00m \u001b[38;5;28mself\u001b[39m\u001b[38;5;241m.\u001b[39mreturn_generator \u001b[38;5;28;01melse\u001b[39;00m \u001b[38;5;28;43mlist\u001b[39;49m\u001b[43m(\u001b[49m\u001b[43moutput\u001b[49m\u001b[43m)\u001b[49m\n",
            "File \u001b[0;32m~/code/robustipy/lib64/python3.12/site-packages/joblib/parallel.py:1650\u001b[0m, in \u001b[0;36mParallel._get_outputs\u001b[0;34m(self, iterator, pre_dispatch)\u001b[0m\n\u001b[1;32m   1647\u001b[0m     \u001b[38;5;28;01myield\u001b[39;00m\n\u001b[1;32m   1649\u001b[0m     \u001b[38;5;28;01mwith\u001b[39;00m \u001b[38;5;28mself\u001b[39m\u001b[38;5;241m.\u001b[39m_backend\u001b[38;5;241m.\u001b[39mretrieval_context():\n\u001b[0;32m-> 1650\u001b[0m         \u001b[38;5;28;01myield from\u001b[39;00m \u001b[38;5;28mself\u001b[39m\u001b[38;5;241m.\u001b[39m_retrieve()\n\u001b[1;32m   1652\u001b[0m \u001b[38;5;28;01mexcept\u001b[39;00m \u001b[38;5;167;01mGeneratorExit\u001b[39;00m:\n\u001b[1;32m   1653\u001b[0m     \u001b[38;5;66;03m# The generator has been garbage collected before being fully\u001b[39;00m\n\u001b[1;32m   1654\u001b[0m     \u001b[38;5;66;03m# consumed. This aborts the remaining tasks if possible and warn\u001b[39;00m\n\u001b[1;32m   1655\u001b[0m     \u001b[38;5;66;03m# the user if necessary.\u001b[39;00m\n\u001b[1;32m   1656\u001b[0m     \u001b[38;5;28mself\u001b[39m\u001b[38;5;241m.\u001b[39m_exception \u001b[38;5;241m=\u001b[39m \u001b[38;5;28;01mTrue\u001b[39;00m\n",
            "File \u001b[0;32m~/code/robustipy/lib64/python3.12/site-packages/joblib/parallel.py:1754\u001b[0m, in \u001b[0;36mParallel._retrieve\u001b[0;34m(self)\u001b[0m\n\u001b[1;32m   1747\u001b[0m \u001b[38;5;28;01mwhile\u001b[39;00m \u001b[38;5;28mself\u001b[39m\u001b[38;5;241m.\u001b[39m_wait_retrieval():\n\u001b[1;32m   1748\u001b[0m \n\u001b[1;32m   1749\u001b[0m     \u001b[38;5;66;03m# If the callback thread of a worker has signaled that its task\u001b[39;00m\n\u001b[1;32m   1750\u001b[0m     \u001b[38;5;66;03m# triggered an exception, or if the retrieval loop has raised an\u001b[39;00m\n\u001b[1;32m   1751\u001b[0m     \u001b[38;5;66;03m# exception (e.g. `GeneratorExit`), exit the loop and surface the\u001b[39;00m\n\u001b[1;32m   1752\u001b[0m     \u001b[38;5;66;03m# worker traceback.\u001b[39;00m\n\u001b[1;32m   1753\u001b[0m     \u001b[38;5;28;01mif\u001b[39;00m \u001b[38;5;28mself\u001b[39m\u001b[38;5;241m.\u001b[39m_aborting:\n\u001b[0;32m-> 1754\u001b[0m         \u001b[38;5;28;43mself\u001b[39;49m\u001b[38;5;241;43m.\u001b[39;49m\u001b[43m_raise_error_fast\u001b[49m\u001b[43m(\u001b[49m\u001b[43m)\u001b[49m\n\u001b[1;32m   1755\u001b[0m         \u001b[38;5;28;01mbreak\u001b[39;00m\n\u001b[1;32m   1757\u001b[0m     \u001b[38;5;66;03m# If the next job is not ready for retrieval yet, we just wait for\u001b[39;00m\n\u001b[1;32m   1758\u001b[0m     \u001b[38;5;66;03m# async callbacks to progress.\u001b[39;00m\n",
            "File \u001b[0;32m~/code/robustipy/lib64/python3.12/site-packages/joblib/parallel.py:1789\u001b[0m, in \u001b[0;36mParallel._raise_error_fast\u001b[0;34m(self)\u001b[0m\n\u001b[1;32m   1785\u001b[0m \u001b[38;5;66;03m# If this error job exists, immediately raise the error by\u001b[39;00m\n\u001b[1;32m   1786\u001b[0m \u001b[38;5;66;03m# calling get_result. This job might not exists if abort has been\u001b[39;00m\n\u001b[1;32m   1787\u001b[0m \u001b[38;5;66;03m# called directly or if the generator is gc'ed.\u001b[39;00m\n\u001b[1;32m   1788\u001b[0m \u001b[38;5;28;01mif\u001b[39;00m error_job \u001b[38;5;129;01mis\u001b[39;00m \u001b[38;5;129;01mnot\u001b[39;00m \u001b[38;5;28;01mNone\u001b[39;00m:\n\u001b[0;32m-> 1789\u001b[0m     \u001b[43merror_job\u001b[49m\u001b[38;5;241;43m.\u001b[39;49m\u001b[43mget_result\u001b[49m\u001b[43m(\u001b[49m\u001b[38;5;28;43mself\u001b[39;49m\u001b[38;5;241;43m.\u001b[39;49m\u001b[43mtimeout\u001b[49m\u001b[43m)\u001b[49m\n",
            "File \u001b[0;32m~/code/robustipy/lib64/python3.12/site-packages/joblib/parallel.py:745\u001b[0m, in \u001b[0;36mBatchCompletionCallBack.get_result\u001b[0;34m(self, timeout)\u001b[0m\n\u001b[1;32m    739\u001b[0m backend \u001b[38;5;241m=\u001b[39m \u001b[38;5;28mself\u001b[39m\u001b[38;5;241m.\u001b[39mparallel\u001b[38;5;241m.\u001b[39m_backend\n\u001b[1;32m    741\u001b[0m \u001b[38;5;28;01mif\u001b[39;00m backend\u001b[38;5;241m.\u001b[39msupports_retrieve_callback:\n\u001b[1;32m    742\u001b[0m     \u001b[38;5;66;03m# We assume that the result has already been retrieved by the\u001b[39;00m\n\u001b[1;32m    743\u001b[0m     \u001b[38;5;66;03m# callback thread, and is stored internally. It's just waiting to\u001b[39;00m\n\u001b[1;32m    744\u001b[0m     \u001b[38;5;66;03m# be returned.\u001b[39;00m\n\u001b[0;32m--> 745\u001b[0m     \u001b[38;5;28;01mreturn\u001b[39;00m \u001b[38;5;28;43mself\u001b[39;49m\u001b[38;5;241;43m.\u001b[39;49m\u001b[43m_return_or_raise\u001b[49m\u001b[43m(\u001b[49m\u001b[43m)\u001b[49m\n\u001b[1;32m    747\u001b[0m \u001b[38;5;66;03m# For other backends, the main thread needs to run the retrieval step.\u001b[39;00m\n\u001b[1;32m    748\u001b[0m \u001b[38;5;28;01mtry\u001b[39;00m:\n",
            "File \u001b[0;32m~/code/robustipy/lib64/python3.12/site-packages/joblib/parallel.py:763\u001b[0m, in \u001b[0;36mBatchCompletionCallBack._return_or_raise\u001b[0;34m(self)\u001b[0m\n\u001b[1;32m    761\u001b[0m \u001b[38;5;28;01mtry\u001b[39;00m:\n\u001b[1;32m    762\u001b[0m     \u001b[38;5;28;01mif\u001b[39;00m \u001b[38;5;28mself\u001b[39m\u001b[38;5;241m.\u001b[39mstatus \u001b[38;5;241m==\u001b[39m TASK_ERROR:\n\u001b[0;32m--> 763\u001b[0m         \u001b[38;5;28;01mraise\u001b[39;00m \u001b[38;5;28mself\u001b[39m\u001b[38;5;241m.\u001b[39m_result\n\u001b[1;32m    764\u001b[0m     \u001b[38;5;28;01mreturn\u001b[39;00m \u001b[38;5;28mself\u001b[39m\u001b[38;5;241m.\u001b[39m_result\n\u001b[1;32m    765\u001b[0m \u001b[38;5;28;01mfinally\u001b[39;00m:\n",
            "\u001b[0;31mValueError\u001b[0m: Inputs must not be empty."
          ]
        }
      ],
      "source": [
        "ukhls_robustipy.fit(controls=['cohab_dv',\n",
        "                              'sex_dv',\n",
        "                              'is_british',\n",
        "                              'urban_dv',\n",
        "                              'hhsize_dv',\n",
        "                             ],\n",
        "                   draws=10,\n",
        "                   kfold=10,\n",
        "                   group='pidp'\n",
        "                   )"
      ]
    },
    {
      "cell_type": "markdown",
      "id": "d982c1f1-6292-4551-8e1d-4f6b1955cd3d",
      "metadata": {
        "id": "d982c1f1-6292-4551-8e1d-4f6b1955cd3d"
      },
      "source": [
        "And, get the results:"
      ]
    },
    {
      "cell_type": "code",
      "execution_count": null,
      "id": "6a593df8-93d1-4e18-bf9e-6f4ffef0f594",
      "metadata": {
        "id": "6a593df8-93d1-4e18-bf9e-6f4ffef0f594"
      },
      "outputs": [],
      "source": [
        "#ukhls_results = ukhls_robustipy.get_results()"
      ]
    },
    {
      "cell_type": "code",
      "execution_count": null,
      "id": "e626b6e8-6b53-4d9f-a91c-2cc4bc0e2c41",
      "metadata": {
        "id": "e626b6e8-6b53-4d9f-a91c-2cc4bc0e2c41"
      },
      "outputs": [],
      "source": [
        "#ukhls_results.summary_df"
      ]
    },
    {
      "cell_type": "markdown",
      "id": "64387769-edb6-451a-9ab4-8f6236f7ff34",
      "metadata": {
        "id": "64387769-edb6-451a-9ab4-8f6236f7ff34"
      },
      "source": [
        "Plot results:"
      ]
    },
    {
      "cell_type": "code",
      "execution_count": null,
      "id": "6b0b4e89-fe26-45e2-bdcd-263b6d978059",
      "metadata": {
        "id": "6b0b4e89-fe26-45e2-bdcd-263b6d978059"
      },
      "outputs": [],
      "source": [
        "#ukhls_results.plot(figsize=(16, 12))"
      ]
    },
    {
      "cell_type": "markdown",
      "id": "1c8fe1a5-db14-47d5-8a74-568fca2616f0",
      "metadata": {
        "id": "1c8fe1a5-db14-47d5-8a74-568fca2616f0"
      },
      "source": [
        "And print the summary statistic:"
      ]
    },
    {
      "cell_type": "code",
      "execution_count": null,
      "id": "2e2d9bef-5c9a-4652-81a3-fb00179b48de",
      "metadata": {
        "id": "2e2d9bef-5c9a-4652-81a3-fb00179b48de"
      },
      "outputs": [],
      "source": [
        "#ukhls_results.summary()"
      ]
    }
  ],
  "metadata": {
    "colab": {
      "provenance": []
    },
    "kernelspec": {
      "display_name": "robustipy",
      "language": "python",
      "name": "python3"
    },
    "language_info": {
      "codemirror_mode": {
        "name": "ipython",
        "version": 3
      },
      "file_extension": ".py",
      "mimetype": "text/x-python",
      "name": "python",
      "nbconvert_exporter": "python",
      "pygments_lexer": "ipython3",
      "version": "3.13.2"
    }
  },
  "nbformat": 4,
  "nbformat_minor": 5
}
